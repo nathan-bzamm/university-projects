{
 "cells": [
  {
   "cell_type": "code",
   "execution_count": 3,
   "metadata": {},
   "outputs": [],
   "source": [
    "import json\n",
    "import nltk\n",
    "from nltk import tokenize\n",
    "from langdetect import detect"
   ]
  },
  {
   "cell_type": "code",
   "execution_count": 4,
   "metadata": {},
   "outputs": [
    {
     "name": "stdout",
     "output_type": "stream",
     "text": [
      "Requirement already satisfied: langdetect in c:\\users\\home\\anaconda3\\lib\\site-packages (1.0.8)Note: you may need to restart the kernel to use updated packages.\n",
      "\n",
      "Requirement already satisfied: six in c:\\users\\home\\anaconda3\\lib\\site-packages (from langdetect) (1.15.0)\n"
     ]
    }
   ],
   "source": [
    "pip install langdetect"
   ]
  },
  {
   "cell_type": "code",
   "execution_count": 5,
   "metadata": {},
   "outputs": [
    {
     "name": "stdout",
     "output_type": "stream",
     "text": [
      "Requirement already satisfied: nltk in c:\\users\\home\\anaconda3\\lib\\site-packages (3.5)\n",
      "Requirement already satisfied: langdetect in c:\\users\\home\\anaconda3\\lib\\site-packages (1.0.8)\n",
      "Requirement already satisfied: regex in c:\\users\\home\\anaconda3\\lib\\site-packages (from nltk) (2020.6.8)\n",
      "Requirement already satisfied: joblib in c:\\users\\home\\anaconda3\\lib\\site-packages (from nltk) (0.16.0)\n",
      "Requirement already satisfied: click in c:\\users\\home\\anaconda3\\lib\\site-packages (from nltk) (7.1.2)\n",
      "Requirement already satisfied: tqdm in c:\\users\\home\\anaconda3\\lib\\site-packages (from nltk) (4.47.0)\n",
      "Requirement already satisfied: six in c:\\users\\home\\anaconda3\\lib\\site-packages (from langdetect) (1.15.0)\n",
      "Note: you may need to restart the kernel to use updated packages.\n"
     ]
    }
   ],
   "source": [
    "pip install nltk langdetect"
   ]
  },
  {
   "cell_type": "code",
   "execution_count": 7,
   "metadata": {},
   "outputs": [],
   "source": [
    "text = \"I live in England.  In London.\"\n",
    "english = list();\n",
    "error = list();\n",
    "try:\n",
    "     if detect(text) == \"en\":\n",
    "            english.append(\"True\");\n",
    "except:\n",
    "           error.append(\"Error!!\");"
   ]
  },
  {
   "cell_type": "code",
   "execution_count": 5,
   "metadata": {},
   "outputs": [
    {
     "name": "stderr",
     "output_type": "stream",
     "text": [
      "[nltk_data] Downloading package punkt to\n",
      "[nltk_data]     C:\\Users\\home\\AppData\\Roaming\\nltk_data...\n"
     ]
    },
    {
     "name": "stdout",
     "output_type": "stream",
     "text": [
      "['My', 'name', 'is', 'Nathan', '!', 'I', 'live', 'in', 'Marsaskala', '.']\n"
     ]
    },
    {
     "name": "stderr",
     "output_type": "stream",
     "text": [
      "[nltk_data]   Package punkt is already up-to-date!\n"
     ]
    }
   ],
   "source": [
    "from nltk.tokenize import word_tokenize\n",
    "nltk.download(\"punkt\")\n",
    "text = \"My name is Nathan! I live in Marsaskala.\"\n",
    "tokens = nltk.word_tokenize(text)\n",
    "print(tokens)"
   ]
  },
  {
   "cell_type": "code",
   "execution_count": 8,
   "metadata": {},
   "outputs": [
    {
     "name": "stdout",
     "output_type": "stream",
     "text": [
      "[('My', 'PRON'), ('name', 'NOUN'), ('is', 'VERB'), ('Nathan', 'NOUN'), ('!', '.'), ('I', 'PRON'), ('live', 'VERB'), ('in', 'ADP'), ('Marsaskala', 'NOUN'), ('.', '.')]\n"
     ]
    }
   ],
   "source": [
    "POS1 = nltk.pos_tag(tokens, tagset = 'universal')\n",
    "print(POS1)"
   ]
  },
  {
   "cell_type": "code",
   "execution_count": 9,
   "metadata": {},
   "outputs": [
    {
     "name": "stdout",
     "output_type": "stream",
     "text": [
      "[('My', 'PRP$'), ('name', 'NN'), ('is', 'VBZ'), ('Nathan', 'NNP'), ('!', '.'), ('I', 'PRP'), ('live', 'VBP'), ('in', 'IN'), ('Marsaskala', 'NNP'), ('.', '.')]\n"
     ]
    }
   ],
   "source": [
    "POS2 = nltk.pos_tag(tokens)\n",
    "print(POS2)"
   ]
  },
  {
   "cell_type": "code",
   "execution_count": 10,
   "metadata": {},
   "outputs": [
    {
     "name": "stderr",
     "output_type": "stream",
     "text": [
      "[nltk_data] Downloading package words to\n",
      "[nltk_data]     C:\\Users\\home\\AppData\\Roaming\\nltk_data...\n",
      "[nltk_data]   Package words is already up-to-date!\n"
     ]
    }
   ],
   "source": [
    "nltk.download('words')\n",
    "Names = nltk.chunk.tree2conlltags(nltk.ne_chunk(POS2))"
   ]
  },
  {
   "cell_type": "code",
   "execution_count": 13,
   "metadata": {},
   "outputs": [],
   "source": [
    "data = {}\n",
    "data = {\n",
    "    \"english\":english,\n",
    "    \"error\":error,\n",
    "    \"POS1\":POS1,\n",
    "    \"POS2\":POS2,\n",
    "    \"Names\":Names\n",
    "}"
   ]
  },
  {
   "cell_type": "code",
   "execution_count": 14,
   "metadata": {},
   "outputs": [
    {
     "data": {
      "text/plain": [
       "{'english': ['True'],\n",
       " 'error': [],\n",
       " 'POS1': [('My', 'PRON'),\n",
       "  ('name', 'NOUN'),\n",
       "  ('is', 'VERB'),\n",
       "  ('Nathan', 'NOUN'),\n",
       "  ('!', '.'),\n",
       "  ('I', 'PRON'),\n",
       "  ('live', 'VERB'),\n",
       "  ('in', 'ADP'),\n",
       "  ('Marsaskala', 'NOUN'),\n",
       "  ('.', '.')],\n",
       " 'POS2': [('My', 'PRP$'),\n",
       "  ('name', 'NN'),\n",
       "  ('is', 'VBZ'),\n",
       "  ('Nathan', 'NNP'),\n",
       "  ('!', '.'),\n",
       "  ('I', 'PRP'),\n",
       "  ('live', 'VBP'),\n",
       "  ('in', 'IN'),\n",
       "  ('Marsaskala', 'NNP'),\n",
       "  ('.', '.')],\n",
       " 'Names': [('My', 'PRP$', 'O'),\n",
       "  ('name', 'NN', 'O'),\n",
       "  ('is', 'VBZ', 'O'),\n",
       "  ('Nathan', 'NNP', 'B-PERSON'),\n",
       "  ('!', '.', 'O'),\n",
       "  ('I', 'PRP', 'O'),\n",
       "  ('live', 'VBP', 'O'),\n",
       "  ('in', 'IN', 'O'),\n",
       "  ('Marsaskala', 'NNP', 'B-GPE'),\n",
       "  ('.', '.', 'O')]}"
      ]
     },
     "execution_count": 14,
     "metadata": {},
     "output_type": "execute_result"
    }
   ],
   "source": [
    "data"
   ]
  },
  {
   "cell_type": "code",
   "execution_count": null,
   "metadata": {},
   "outputs": [],
   "source": []
  }
 ],
 "metadata": {
  "kernelspec": {
   "display_name": "Python 3",
   "language": "python",
   "name": "python3"
  },
  "language_info": {
   "codemirror_mode": {
    "name": "ipython",
    "version": 3
   },
   "file_extension": ".py",
   "mimetype": "text/x-python",
   "name": "python",
   "nbconvert_exporter": "python",
   "pygments_lexer": "ipython3",
   "version": "3.8.3"
  }
 },
 "nbformat": 4,
 "nbformat_minor": 4
}
