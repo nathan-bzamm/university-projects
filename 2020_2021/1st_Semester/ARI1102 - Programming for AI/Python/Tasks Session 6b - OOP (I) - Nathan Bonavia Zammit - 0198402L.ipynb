{
 "cells": [
  {
   "cell_type": "markdown",
   "metadata": {},
   "source": [
    "# Object Oriented Programming\n",
    "\n",
    "For this challenge, create a bank account `class` that has two attributes:\n",
    "\n",
    "* owner\n",
    "* balance\n",
    "\n",
    "and two methods:\n",
    "\n",
    "* deposit\n",
    "* withdraw\n",
    "\n",
    "As an added requirement, withdrawals may not exceed the available balance.\n",
    "\n",
    "Instantiate your class, make several deposits and withdrawals, and test to make sure the account can't be overdrawn."
   ]
  },
  {
   "cell_type": "code",
   "execution_count": 6,
   "metadata": {},
   "outputs": [],
   "source": [
    "#Your class code here:\n",
    "class Bank_Account:\n",
    "    def __init__(self,owner,balance):\n",
    "        self.owner = owner\n",
    "        self.balance = balance\n",
    "        \n",
    "    def deposit(self):\n",
    "        amnt = int(input(\"Enter amount that you wish to deposit:\\n\"))\n",
    "        self.balance += amnt\n",
    "        print(\"New balance is £\",self.balance)\n",
    "    \n",
    "    def withdraw(self):\n",
    "        amnt = int(input(\"Enter amount that you wish to withdraw:\\n\"))\n",
    "        if amnt>self.balance:\n",
    "            print(\"Withdraw may not exceed your available balance.\")\n",
    "            print(\"Your balance is £\",self.balance)\n",
    "        else:\n",
    "            self.balance -= amnt\n",
    "            print(\"New balance is £\",self.balance)"
   ]
  },
  {
   "cell_type": "code",
   "execution_count": 7,
   "metadata": {},
   "outputs": [],
   "source": [
    "# 1. Instantiate the class\n",
    "Account = Bank_Account(\"Nathan\", 2000)"
   ]
  },
  {
   "cell_type": "code",
   "execution_count": 8,
   "metadata": {},
   "outputs": [
    {
     "name": "stdout",
     "output_type": "stream",
     "text": [
      "<__main__.Bank_Account object at 0x00000233DF4C43A0>\n"
     ]
    }
   ],
   "source": [
    "# 2. Print the object\n",
    "print(Account)"
   ]
  },
  {
   "cell_type": "code",
   "execution_count": 9,
   "metadata": {},
   "outputs": [
    {
     "name": "stdout",
     "output_type": "stream",
     "text": [
      "Nathan\n"
     ]
    }
   ],
   "source": [
    "# 3. Show the account owner attribute\n",
    "print(Account.owner)"
   ]
  },
  {
   "cell_type": "code",
   "execution_count": 10,
   "metadata": {},
   "outputs": [
    {
     "name": "stdout",
     "output_type": "stream",
     "text": [
      "2000\n"
     ]
    }
   ],
   "source": [
    "# 4. Show the account balance attribute\n",
    "print(Account.balance)"
   ]
  },
  {
   "cell_type": "code",
   "execution_count": 13,
   "metadata": {},
   "outputs": [
    {
     "name": "stdout",
     "output_type": "stream",
     "text": [
      "Enter amount that you wish to withdraw:\n",
      "1500\n",
      "New balance is £ 1500\n"
     ]
    }
   ],
   "source": [
    "# 5. Make a series of deposits and withdrawals\n",
    "Account.withdraw()"
   ]
  },
  {
   "cell_type": "code",
   "execution_count": 14,
   "metadata": {},
   "outputs": [
    {
     "name": "stdout",
     "output_type": "stream",
     "text": [
      "Enter amount that you wish to withdraw:\n",
      "2000\n",
      "Withdraw may not exceed your available balance.\n",
      "Your balance is £ 1500\n"
     ]
    }
   ],
   "source": [
    "# 6. Make a withdrawal that exceeds the available balance\n",
    "Account.withdraw()"
   ]
  },
  {
   "cell_type": "code",
   "execution_count": null,
   "metadata": {},
   "outputs": [],
   "source": []
  }
 ],
 "metadata": {
  "kernelspec": {
   "display_name": "Python 3",
   "language": "python",
   "name": "python3"
  },
  "language_info": {
   "codemirror_mode": {
    "name": "ipython",
    "version": 3
   },
   "file_extension": ".py",
   "mimetype": "text/x-python",
   "name": "python",
   "nbconvert_exporter": "python",
   "pygments_lexer": "ipython3",
   "version": "3.8.3"
  }
 },
 "nbformat": 4,
 "nbformat_minor": 2
}
