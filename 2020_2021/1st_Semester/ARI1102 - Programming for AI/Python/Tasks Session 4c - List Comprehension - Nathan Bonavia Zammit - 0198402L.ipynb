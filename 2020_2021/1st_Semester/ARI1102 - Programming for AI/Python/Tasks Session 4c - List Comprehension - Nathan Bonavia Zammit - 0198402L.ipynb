{
 "cells": [
  {
   "cell_type": "markdown",
   "metadata": {
    "collapsed": true
   },
   "source": [
    "# List Comprehensions\n",
    "\n",
    "In addition to sequence operations and list methods, Python includes a more advanced/elegent operation called a list comprehension.\n",
    "\n",
    "List comprehensions allow us to build out lists using a different notation. You can think of it as essentially a one line <code>for</code> loop built inside of square brackets. \n",
    "\n",
    "Suppose, we want to separate the letters of the word <code>human</code> and add the letters as items of a list. The first thing that comes in mind would be using for loop. We would come up with something like this:\n",
    "\n",
    "    hlist = []\n",
    "    for letter in \"human\":\n",
    "        hlist.append(letter)\n",
    "        \n",
    "    print(hlist)\n",
    "\n",
    "\n",
    "When we run the program, the output will be:\n",
    "\n",
    "    ['h', 'u', 'm', 'a', 'n']\n",
    "    \n",
    "However, the above can be done more elegently using list comprehension:\n",
    "\n",
    "    hlist = [letter for letter in \"human\"]\n",
    "    print(hlist)\n",
    "    \n",
    "In the above example, a new list is assigned to variable hlist, and list contains the items of the iterable string \"human\". \n",
    "\n",
    "This is the basic idea of a list comprehension. If you're familiar with mathematical notation this format should feel familiar for example: x^2 : x in { 0,1,2...10 } "
   ]
  },
  {
   "cell_type": "markdown",
   "metadata": {},
   "source": [
    "## Question 1:\n",
    "Use **list comprehension** to square a list of numbers which is obtained by using <code>range</code> to create a list of numbers from 0 to 10."
   ]
  },
  {
   "cell_type": "code",
   "execution_count": 1,
   "metadata": {},
   "outputs": [
    {
     "name": "stdout",
     "output_type": "stream",
     "text": [
      "[0, 1, 4, 9, 16, 25, 36, 49, 64, 81]\n"
     ]
    }
   ],
   "source": [
    "squares = [x**2 for x in range(10)]\n",
    "print(squares)"
   ]
  },
  {
   "cell_type": "markdown",
   "metadata": {},
   "source": [
    "It is also possible to include conditionals in a list comprehension, something that can be rather useful:\n",
    "\n",
    "    [variable/function for variable in some_list if some_condition]\n",
    "    \n",
    "This basically would iterate through **some_list** and if **some_condition** is met, then the value is placed in **variable**, with the final output being a list. \n",
    "\n",
    "\n",
    "## Question 2\n",
    "Extend your code from Q1 and include a conditional that checks whether the number is even."
   ]
  },
  {
   "cell_type": "code",
   "execution_count": 4,
   "metadata": {},
   "outputs": [
    {
     "name": "stdout",
     "output_type": "stream",
     "text": [
      "[0, 4, 16, 36, 64]\n"
     ]
    }
   ],
   "source": [
    "squares = [x**2 for x in range(10) if x%2 == 0] \n",
    "print(squares)"
   ]
  },
  {
   "cell_type": "markdown",
   "metadata": {},
   "source": [
    "## Question 3\n",
    "Use list comprehension which has the string \"This is Some SAMple STriNG\" as **some_list** and will output only the characters that are in upper case - you can use the function <code>isupper()</code>."
   ]
  },
  {
   "cell_type": "code",
   "execution_count": 5,
   "metadata": {},
   "outputs": [
    {
     "name": "stdout",
     "output_type": "stream",
     "text": [
      "['T', 'S', 'S', 'A', 'M', 'S', 'T', 'N', 'G']\n"
     ]
    }
   ],
   "source": [
    "this_string = \"This is Some SAMple STriNG\"\n",
    "some_list = [capital_this_string for capital_this_string in this_string if capital_this_string.isupper()]\n",
    "print(some_list)"
   ]
  },
  {
   "cell_type": "markdown",
   "metadata": {},
   "source": [
    "## Question 4\n",
    "\n",
    "Give this list:\n",
    "\n",
    "    celsius = [0,10,20.1,34.5]\n",
    "    \n",
    "And the formula to convert celsius to fahrenheit:\n",
    "\n",
    "    ((9/5)*temp + 32)\n",
    "    \n",
    "Write a list comprehension that will convert the celsius list."
   ]
  },
  {
   "cell_type": "code",
   "execution_count": 11,
   "metadata": {},
   "outputs": [
    {
     "name": "stdout",
     "output_type": "stream",
     "text": [
      "[32.0, 50.0, 68.18, 94.1]\n"
     ]
    }
   ],
   "source": [
    "celsius = [0,10,20.1,34.5]\n",
    "fahrenheit = [((float(9)/5)*temp + 32) for temp in celsius]\n",
    "print (fahrenheit)"
   ]
  },
  {
   "cell_type": "markdown",
   "metadata": {},
   "source": [
    "Above we saw the following:\n",
    "\n",
    "    [variable/function for variable in some_list if some_condition]\n",
    "\n",
    "Since the output of list comprehension is a list, it is possible to have nested list comprehension.\n",
    "\n",
    "    [variable/function for variable in [variable/function for variable in some_list if some_condition] if some_condition]\n",
    "\n",
    "Remember that the conditional part is always optional, so if we drop that, it is easier to read: \n",
    "\n",
    "    [variable/function for variable in [variable/function for variable in some_list]]\n",
    "\n",
    "## Question 5\n",
    "Use the list comprehension from Q1 and square AGAIN the output of the first list comprehension through a nested one. "
   ]
  },
  {
   "cell_type": "code",
   "execution_count": 12,
   "metadata": {},
   "outputs": [
    {
     "name": "stdout",
     "output_type": "stream",
     "text": [
      "[0, 1, 16, 81, 256, 625, 1296, 2401, 4096, 6561]\n"
     ]
    }
   ],
   "source": [
    "squares = [x**2 for x in [x**2 for x in range(10)]] \n",
    "print(squares)"
   ]
  }
 ],
 "metadata": {
  "kernelspec": {
   "display_name": "Python 3",
   "language": "python",
   "name": "python3"
  },
  "language_info": {
   "codemirror_mode": {
    "name": "ipython",
    "version": 3
   },
   "file_extension": ".py",
   "mimetype": "text/x-python",
   "name": "python",
   "nbconvert_exporter": "python",
   "pygments_lexer": "ipython3",
   "version": "3.8.3"
  }
 },
 "nbformat": 4,
 "nbformat_minor": 1
}
