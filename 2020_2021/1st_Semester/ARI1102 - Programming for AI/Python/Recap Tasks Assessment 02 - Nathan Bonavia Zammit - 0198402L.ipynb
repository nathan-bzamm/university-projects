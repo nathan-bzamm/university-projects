{
 "cells": [
  {
   "cell_type": "markdown",
   "metadata": {},
   "source": [
    "# Guessing Game Challenge\n",
    "\n",
    "Let's use `while` loops to create a guessing game.\n",
    "\n",
    "The Challenge:\n",
    "\n",
    "Write a program that picks a random integer from 1 to 100, and has players guess the number. The rules are:\n",
    "\n",
    "1. If a player's guess is less than 1 or greater than 100, say \"OUT OF BOUNDS\"\n",
    "2. On a player's first turn, if their guess is\n",
    " * within 10 of the number, return \"WARM!\"\n",
    " * further than 10 away from the number, return \"COLD!\"\n",
    "3. On all subsequent turns, if a guess is \n",
    " * closer to the number than the previous guess return \"WARMER!\"\n",
    " * farther from the number than the previous guess, return \"COLDER!\"\n",
    "4. When the player's guess equals the number, tell them they've guessed correctly *and* how many guesses it took!\n",
    "\n",
    "You can try this from scratch, or follow the steps outlined below. A separate Solution notebook has been provided. Good luck!\n"
   ]
  },
  {
   "cell_type": "markdown",
   "metadata": {},
   "source": [
    "#### First, pick a random integer from 1 to 100 using the random module and assign it to a variable\n",
    "\n",
    "Note: `random.randint(a,b)` returns a random integer in range `[a, b]`, including both end points."
   ]
  },
  {
   "cell_type": "code",
   "execution_count": null,
   "metadata": {},
   "outputs": [],
   "source": [
    "import random\n",
    "number = random.randint(1,100)"
   ]
  },
  {
   "cell_type": "markdown",
   "metadata": {},
   "source": [
    "#### Next, print an introduction to the game and explain the rules"
   ]
  },
  {
   "cell_type": "code",
   "execution_count": null,
   "metadata": {},
   "outputs": [],
   "source": [
    "print(\"Hello and welcome to the game!\")\n",
    "print()\n",
    "print(\"In this game a random number is generated between 1 and 100 and you will need to guess it\")\n",
    "print(\"On your first guess if you your guess is within 10 of the number you will be notified by the word WARM!)\n",
    "print(\"Otherwise you will be notified by the word COLD!\")\n",
    "print(\"This will keep going until you guess the final number\")"
   ]
  },
  {
   "cell_type": "markdown",
   "metadata": {},
   "source": [
    "#### Create a list to store guesses\n",
    "\n",
    "Hint: zero is a good placeholder value. It's useful because it evaluates to \"False\""
   ]
  },
  {
   "cell_type": "code",
   "execution_count": null,
   "metadata": {},
   "outputs": [],
   "source": [
    "guesses = []"
   ]
  },
  {
   "cell_type": "markdown",
   "metadata": {},
   "source": [
    "#### Write a `while` loop that asks for a valid guess. Test it a few times to make sure it works."
   ]
  },
  {
   "cell_type": "code",
   "execution_count": null,
   "metadata": {},
   "outputs": [],
   "source": [
    "while True:\n",
    "    print(\"Try to guess the number: \")\n",
    "    guess = input()\n",
    "    guess = int(guess)\n",
    "    pass"
   ]
  },
  {
   "cell_type": "markdown",
   "metadata": {},
   "source": [
    "#### Write a `while` loop that compares the player's guess to our number. If the player guesses correctly, break from the loop. Otherwise, tell the player if they're warmer or colder, and continue asking for guesses.\n",
    "\n",
    "Some hints:\n",
    "* it may help to sketch out all possible combinations on paper first!\n",
    "* you can use the `abs()` function to find the positive difference between two numbers\n",
    "* if you append all new guesses to the list, then the previous guess is given as `guesses[-2]`"
   ]
  },
  {
   "cell_type": "code",
   "execution_count": 21,
   "metadata": {},
   "outputs": [
    {
     "name": "stdout",
     "output_type": "stream",
     "text": [
      "Hello and welcome to the game!\n",
      "\n",
      "In this game a random number is generated between 1 and 100 and you will need to guess it\n",
      "On your first guess if you your guess is within 10 of the number you will be notified by the word WARM!\n",
      "Otherwise you will be notified by the word COLD!\n",
      "This will keep going until you guess the final number\n",
      "Guess the Random Number\n",
      "33\n",
      "COLD!\n",
      "Guess the Random Number\n",
      "21\n",
      "COLDER!\n",
      "Guess the Random Number\n",
      "54\n",
      "WARMER!\n",
      "Guess the Random Number\n",
      "55\n",
      "COLDER!\n",
      "Guess the Random Number\n",
      "53\n",
      "You've guessed the number, and it took you  5  attempts\n"
     ]
    }
   ],
   "source": [
    "import random\n",
    "number = random.randint(1,100)\n",
    "\n",
    "print(\"Hello and welcome to the game!\")\n",
    "print()\n",
    "print(\"In this game a random number is generated between 1 and 100 and you will need to guess it\")\n",
    "print(\"On your first guess if you your guess is within 10 of the number you will be notified by the word WARM!\")\n",
    "print(\"Otherwise you will be notified by the word COLD!\")\n",
    "print(\"This will keep going until you guess the final number\")\n",
    "\n",
    "counter = 0\n",
    "guesses = [0]\n",
    "\n",
    "while True:\n",
    "   \n",
    "    guess = int(input(\"Try and guess the random number:\\n\"))\n",
    "    counter+=1\n",
    "    guesses.append(guess)\n",
    "\n",
    "    if guess < 1 or guess >100:\n",
    "        print(\"OUT OF BOUNDS\")\n",
    "        continue\n",
    "        \n",
    "    if guess == number:\n",
    "        print(\"You've guessed the number, and it took you\", counter, \"attempts\")\n",
    "        break\n",
    "        \n",
    "    if guesses[-2]:\n",
    "        if abs(number-guess) < abs(number-guesses[-2]):\n",
    "            print(\"WARMER!\")\n",
    "        else:\n",
    "            print(\"COLDER!\")\n",
    "            \n",
    "    else:\n",
    "        if abs(number - guess)<= 10:\n",
    "            print(\"WARM!\")\n",
    "        else:\n",
    "            print(\"COLD!\")\n",
    "          \n",
    "          \n",
    "\n",
    "    pass"
   ]
  },
  {
   "cell_type": "markdown",
   "metadata": {},
   "source": [
    "That's it! :) "
   ]
  },
  {
   "cell_type": "code",
   "execution_count": null,
   "metadata": {},
   "outputs": [],
   "source": []
  },
  {
   "cell_type": "code",
   "execution_count": null,
   "metadata": {},
   "outputs": [],
   "source": []
  }
 ],
 "metadata": {
  "kernelspec": {
   "display_name": "Python 3",
   "language": "python",
   "name": "python3"
  },
  "language_info": {
   "codemirror_mode": {
    "name": "ipython",
    "version": 3
   },
   "file_extension": ".py",
   "mimetype": "text/x-python",
   "name": "python",
   "nbconvert_exporter": "python",
   "pygments_lexer": "ipython3",
   "version": "3.8.3"
  }
 },
 "nbformat": 4,
 "nbformat_minor": 2
}
