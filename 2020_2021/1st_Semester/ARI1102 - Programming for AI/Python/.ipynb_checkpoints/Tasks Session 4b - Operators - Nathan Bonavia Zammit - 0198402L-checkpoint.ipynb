{
 "cells": [
  {
   "cell_type": "markdown",
   "metadata": {},
   "source": [
    "# Useful Operators\n",
    "\n",
    "There are a few built-in functions and \"operators\" in Python that don't fit well into any category, so we will go over them in this lecture, let's begin!"
   ]
  },
  {
   "cell_type": "markdown",
   "metadata": {},
   "source": [
    "## range\n",
    "\n",
    "The range function allows you to quickly *generate* a list of integers, this comes in handy a lot, so take note of how to use it! There are 3 parameters you can pass, a start, a stop, and a step size. Try out a few range statements:"
   ]
  },
  {
   "cell_type": "code",
   "execution_count": null,
   "metadata": {},
   "outputs": [],
   "source": [
    "range(0,11)"
   ]
  },
  {
   "cell_type": "markdown",
   "metadata": {},
   "source": [
    "Note that this is a **generator** function, so to actually get a list out of it, we need to cast it to a list with **list()**. What is a generator? Its a special type of function that will generate information and not need to save it to memory. We haven't talked about functions or generators yet, so just keep this in your notes for now, we will discuss this in much more detail in later on!"
   ]
  },
  {
   "cell_type": "code",
   "execution_count": null,
   "metadata": {},
   "outputs": [],
   "source": [
    "# Notice how 11 is not included, up to but not including 11, just like slice notation!\n",
    "list(range(0,11))"
   ]
  },
  {
   "cell_type": "code",
   "execution_count": null,
   "metadata": {},
   "outputs": [],
   "source": [
    "list(range(0,12))"
   ]
  },
  {
   "cell_type": "markdown",
   "metadata": {},
   "source": [
    "## Question 1:\n",
    "Modify the code\n",
    "\n",
    "    list(range(0,12))\n",
    "to include a third parameter - the step size. Use a step size of 2. Note whether you get even or odd numbers, understand where the range is starting and where it ends."
   ]
  },
  {
   "cell_type": "code",
   "execution_count": 1,
   "metadata": {},
   "outputs": [
    {
     "data": {
      "text/plain": [
       "[0, 2, 4, 6, 8, 10]"
      ]
     },
     "execution_count": 1,
     "metadata": {},
     "output_type": "execute_result"
    }
   ],
   "source": [
    "list(range(0,12,2))"
   ]
  },
  {
   "cell_type": "markdown",
   "metadata": {},
   "source": [
    "## Question 2:\n",
    "Create a range that will produce this list:\n",
    "\n",
    "    [0, 10, 20, 30, 40, 50, 60, 70, 80, 90, 100]"
   ]
  },
  {
   "cell_type": "code",
   "execution_count": 3,
   "metadata": {},
   "outputs": [
    {
     "data": {
      "text/plain": [
       "[0, 10, 20, 30, 40, 50, 60, 70, 80, 90, 100]"
      ]
     },
     "execution_count": 3,
     "metadata": {},
     "output_type": "execute_result"
    }
   ],
   "source": [
    "list(range(0,110,10))"
   ]
  },
  {
   "cell_type": "markdown",
   "metadata": {},
   "source": [
    "## enumerate\n",
    "\n",
    "enumerate is a very useful function to use with for loops. Let's imagine the following situation:"
   ]
  },
  {
   "cell_type": "code",
   "execution_count": null,
   "metadata": {},
   "outputs": [],
   "source": [
    "index_count = 0\n",
    "\n",
    "for letter in 'abcde':\n",
    "    print(\"At index {} the letter is {}\".format(index_count,letter))\n",
    "    index_count += 1"
   ]
  },
  {
   "cell_type": "markdown",
   "metadata": {},
   "source": [
    "Keeping track of how many loops you've gone through is so common, that <code>enumerate</code> was created so you don't need to worry about creating and updating this <code>index_count</code> or <code>loop_count</code> variable.\n",
    "\n",
    "Whenever you need to traverse the elements of a sequence and their indices, you can use the built-in function <code>enumerate</code>:\n",
    "\n",
    "    for index, element in enumerate('abc'):\n",
    "        print(index, element)\n",
    "        \n",
    "The result from <code>enumerate</code> is an enumerate object - This object provides two things - the index (starting from 0) and the element from the given sequence. In the above example, the output is\n",
    "\n",
    "    0 a\n",
    "    1 b\n",
    "    2 c\n",
    "\n",
    "Notice that in the <code>for</code> loop there is ***tuple unpacking*** with the <code>index, element</code> part.  \n",
    "\n",
    "## Question 3\n",
    "Convert the following code:\n",
    "\n",
    "    for letter in 'abcde':\n",
    "        print(\"At index {} the letter is {}\".format(index_count,letter))\n",
    "        index_count += 1\n",
    "\n",
    "and use the <code>enumerate</code> function instead."
   ]
  },
  {
   "cell_type": "code",
   "execution_count": null,
   "metadata": {},
   "outputs": [],
   "source": []
  },
  {
   "cell_type": "markdown",
   "metadata": {},
   "source": [
    "## zip\n",
    "\n",
    "We saw in the above example that <code>enumerate</code> returns a list of tuples, with each tuple containing two elements.\n",
    "\n",
    "<code>zip</code> is a built-in function that takes two or more sequences and interleaves them. The name of the function refers to a zipper, which interleaves two rows of teeth.\n",
    "This example zips a string and a list:\n",
    "    \n",
    "    s = 'abc'\n",
    "    t = [0, 1, 2]\n",
    "    zip(s, t)\n",
    "\n",
    "    <zip object at 0x7f7d0a9e7c48>\n",
    "\n",
    "The result is a <code>zip object</code> that knows how to iterate through the pairs. The most common use of zip is in a for loop:\n",
    "\n",
    "    for pair in zip(s, t):\n",
    "        print(pair)\n",
    "        \n",
    "    ('a', 0)\n",
    "    ('b', 1)\n",
    "    ('c', 2)\n",
    "\n",
    "A <code>zip object</code> is a kind of <code>iterator</code>, which is **any object that iterates through a sequence**. Iterators are similar to lists in some ways, but unlike lists, you can’t use an index to select an element from an iterator.\n",
    "\n",
    "If you want to use list operators and methods, you can use a zip object to make a list:\n",
    "    \n",
    "    list(zip(s, t))\n",
    "    [('a', 0), ('b', 1), ('c', 2)]\n",
    "\n",
    "The result is a list of tuples; in this example, each tuple contains a character from the string\n",
    "and the corresponding element from the list.\n",
    "\n",
    "## Question 4:\n",
    "Zip together two lists/strings of different lengths. What happens?"
   ]
  },
  {
   "cell_type": "code",
   "execution_count": null,
   "metadata": {},
   "outputs": [],
   "source": []
  },
  {
   "cell_type": "markdown",
   "metadata": {},
   "source": [
    "## Question 5:\n",
    "It is possible to use <code>zip</code> in combination with <code>dict</code> to create a dictionary with the following values:\n",
    "\n",
    "    {'a': 0, 'c': 2, 'b': 1}\n",
    "    \n",
    "This can be done with one line of code. Hint: Use also <code>range</code>."
   ]
  },
  {
   "cell_type": "code",
   "execution_count": null,
   "metadata": {},
   "outputs": [],
   "source": []
  },
  {
   "cell_type": "markdown",
   "metadata": {},
   "source": [
    "## in operator\n",
    "\n",
    "We've already seen the **in** keyword during the for loop, but we can also use it to quickly check if an object is in a list"
   ]
  },
  {
   "cell_type": "code",
   "execution_count": null,
   "metadata": {},
   "outputs": [],
   "source": [
    "'x' in ['x','y','z']"
   ]
  },
  {
   "cell_type": "code",
   "execution_count": null,
   "metadata": {},
   "outputs": [],
   "source": [
    "'x' in [1,2,3]"
   ]
  },
  {
   "cell_type": "markdown",
   "metadata": {},
   "source": [
    "## not in\n",
    "\n",
    "We can combine **in** with a **not** operator, to check if some object or variable is not present in a list."
   ]
  },
  {
   "cell_type": "code",
   "execution_count": null,
   "metadata": {},
   "outputs": [],
   "source": [
    "'x' not in ['x','y','z']"
   ]
  },
  {
   "cell_type": "code",
   "execution_count": null,
   "metadata": {},
   "outputs": [],
   "source": [
    "'x' not in [1,2,3]"
   ]
  },
  {
   "cell_type": "markdown",
   "metadata": {},
   "source": [
    "## min() and max()\n",
    "\n",
    "These two functions give you a quick way to check the minimum or maximum of a **list**."
   ]
  },
  {
   "cell_type": "code",
   "execution_count": null,
   "metadata": {},
   "outputs": [],
   "source": [
    "mylist = [10,20,30,40,100]"
   ]
  },
  {
   "cell_type": "code",
   "execution_count": null,
   "metadata": {},
   "outputs": [],
   "source": []
  },
  {
   "cell_type": "code",
   "execution_count": null,
   "metadata": {},
   "outputs": [],
   "source": [
    "min(mylist)"
   ]
  },
  {
   "cell_type": "code",
   "execution_count": null,
   "metadata": {},
   "outputs": [],
   "source": [
    "max(mylist)"
   ]
  },
  {
   "cell_type": "markdown",
   "metadata": {},
   "source": [
    "## random & import\n",
    "\n",
    "Python comes with a built in random library. So far, we have been using built in functions that did not require us to call in any library in advance. However in this case, we will need to import the library first before being able to use such functions.\n",
    "\n",
    "    from random import shuffle\n",
    "\n",
    "and this will enable me to use the shuffle functions:\n",
    "\n",
    "    shuffle(mylist)\n",
    "\n",
    "There are a lot of functions included in this random library, so we will only show you two useful functions for now.\n",
    "\n",
    "***NOTE***: it is possible to import the full library, but in general, we simply import the functions that we will actually use. To import the full library, we would use the following:\n",
    "\n",
    "    import random\n",
    "    \n",
    "However, when we would want to use a specific function, we would need to write out the library as well:\n",
    "\n",
    "    random.shuffle(mylist)\n",
    "    \n",
    "The convension in general is to have all import statements at the top of your code. However with Jupyter notebooks this might not always be the best since you might want to run different blocks of code. In any case, keep in mind that if you are writing your python code in a script/file, your import statements should be at the top."
   ]
  },
  {
   "cell_type": "code",
   "execution_count": null,
   "metadata": {},
   "outputs": [],
   "source": [
    "import random\n",
    "shuffle(mylist)"
   ]
  },
  {
   "cell_type": "code",
   "execution_count": null,
   "metadata": {},
   "outputs": [],
   "source": [
    "random.shuffle(mylist)\n",
    "mylist"
   ]
  },
  {
   "cell_type": "code",
   "execution_count": null,
   "metadata": {},
   "outputs": [],
   "source": [
    "from random import shuffle\n",
    "shuffle(mylist)\n",
    "mylist"
   ]
  },
  {
   "cell_type": "markdown",
   "metadata": {
    "collapsed": true
   },
   "source": [
    "Sidenote about <code>shuffle</code>\n",
    "\n",
    "This shuffles the list ***in-place*** meaning it won't return anything, instead it will effect the list passed. This means that the order in which the elements of mylist were stored has been modified. "
   ]
  },
  {
   "cell_type": "markdown",
   "metadata": {},
   "source": [
    "## Random Integer - randint\n",
    "\n",
    "The function <code>randint</code> takes two parameters: low and high, and returns an integer between low and high (including both).\n",
    "    \n",
    "    random.randint(5, 10)\n",
    "    5\n",
    "    random.randint(5, 10)\n",
    "    9"
   ]
  },
  {
   "cell_type": "code",
   "execution_count": null,
   "metadata": {},
   "outputs": [],
   "source": [
    "from random import randint"
   ]
  },
  {
   "cell_type": "code",
   "execution_count": null,
   "metadata": {},
   "outputs": [],
   "source": [
    "# Return random integer in range [a, b], including both end points.\n",
    "randint(0,100)"
   ]
  },
  {
   "cell_type": "code",
   "execution_count": null,
   "metadata": {},
   "outputs": [],
   "source": [
    "# Return random integer in range [a, b], including both end points.\n",
    "randint(0,100)"
   ]
  },
  {
   "cell_type": "markdown",
   "metadata": {},
   "source": [
    "## Keyboard input\n",
    "\n",
    "Python provides a built-in function called <code>input</code> that stops the program and waits for the\n",
    "user to type something. When the user presses Return or Enter, the program resumes and\n",
    "input returns what the user typed as a <code>string</code>.\n",
    "\n",
    "Before getting input from the user, it is a good idea to print a prompt telling the user what\n",
    "to type. input can take a prompt as an argument:\n",
    "\n",
    "    input('Enter Something into this box: ')\n",
    "    \n",
    "You can also add a **\\n** (newline) so that the user input starts from the next line:\n",
    "\n",
    "    input('Enter Something into this box:\\n')\n",
    "    \n",
    "Try both versions:"
   ]
  },
  {
   "cell_type": "code",
   "execution_count": null,
   "metadata": {},
   "outputs": [],
   "source": [
    "input('Enter Something into this box:\\n')"
   ]
  }
 ],
 "metadata": {
  "kernelspec": {
   "display_name": "Python 3",
   "language": "python",
   "name": "python3"
  },
  "language_info": {
   "codemirror_mode": {
    "name": "ipython",
    "version": 3
   },
   "file_extension": ".py",
   "mimetype": "text/x-python",
   "name": "python",
   "nbconvert_exporter": "python",
   "pygments_lexer": "ipython3",
   "version": "3.8.3"
  }
 },
 "nbformat": 4,
 "nbformat_minor": 2
}
