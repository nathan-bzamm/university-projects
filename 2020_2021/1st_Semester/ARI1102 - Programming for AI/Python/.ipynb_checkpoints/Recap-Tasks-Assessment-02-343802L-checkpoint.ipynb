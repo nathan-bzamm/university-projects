{
 "cells": [
  {
   "cell_type": "markdown",
   "metadata": {},
   "source": [
    "# Guessing Game Challenge\n",
    "\n",
    "Let's use `while` loops to create a guessing game.\n",
    "\n",
    "The Challenge:\n",
    "\n",
    "Write a program that picks a random integer from 1 to 100, and has players guess the number. The rules are:\n",
    "\n",
    "1. If a player's guess is less than 1 or greater than 100, say \"OUT OF BOUNDS\"\n",
    "2. On a player's first turn, if their guess is\n",
    " * within 10 of the number, return \"WARM!\"\n",
    " * further than 10 away from the number, return \"COLD!\"\n",
    "3. On all subsequent turns, if a guess is \n",
    " * closer to the number than the previous guess return \"WARMER!\"\n",
    " * farther from the number than the previous guess, return \"COLDER!\"\n",
    "4. When the player's guess equals the number, tell them they've guessed correctly *and* how many guesses it took!\n",
    "\n",
    "You can try this from scratch, or follow the steps outlined below. A separate Solution notebook has been provided. Good luck!\n"
   ]
  },
  {
   "cell_type": "markdown",
   "metadata": {},
   "source": [
    "#### First, pick a random integer from 1 to 100 using the random module and assign it to a variable\n",
    "\n",
    "Note: `random.randint(a,b)` returns a random integer in range `[a, b]`, including both end points."
   ]
  },
  {
   "cell_type": "code",
   "execution_count": null,
   "metadata": {},
   "outputs": [],
   "source": [
    "import random\n",
    "num = random.randint(1,100)"
   ]
  },
  {
   "cell_type": "markdown",
   "metadata": {},
   "source": [
    "#### Next, print an introduction to the game and explain the rules"
   ]
  },
  {
   "cell_type": "code",
   "execution_count": null,
   "metadata": {},
   "outputs": [],
   "source": [
    "print(\"Try to guess a randome number!\")\n",
    "print(\"\\nThe computer has generated a random number between 1-100\")\n",
    "print(\"\\nIf your guess it within 10 of the number it you will see WARM\")\n",
    "print(\"else you will see COLD\")\n",
    "print(\"additionally you will also see WARMER and COLDER to guide you towards the number\")"
   ]
  },
  {
   "cell_type": "markdown",
   "metadata": {},
   "source": [
    "#### Create a list to store guesses\n",
    "\n",
    "Hint: zero is a good placeholder value. It's useful because it evaluates to \"False\""
   ]
  },
  {
   "cell_type": "code",
   "execution_count": null,
   "metadata": {},
   "outputs": [],
   "source": [
    "guesses = [0]"
   ]
  },
  {
   "cell_type": "markdown",
   "metadata": {},
   "source": [
    "#### Write a `while` loop that asks for a valid guess. Test it a few times to make sure it works."
   ]
  },
  {
   "cell_type": "code",
   "execution_count": null,
   "metadata": {},
   "outputs": [],
   "source": [
    "count = 0\n",
    "while True:\n",
    "    uGuess = input(\"enter your guess: \")\n",
    "    uGuess = int(uGuess)\n",
    "    if uGuess<0 or uGuess>100:\n",
    "        print(\"guess invalid, out of range\")\n",
    "    pass"
   ]
  },
  {
   "cell_type": "markdown",
   "metadata": {},
   "source": [
    "#### Write a `while` loop that compares the player's guess to our number. If the player guesses correctly, break from the loop. Otherwise, tell the player if they're warmer or colder, and continue asking for guesses.\n",
    "\n",
    "Some hints:\n",
    "* it may help to sketch out all possible combinations on paper first!\n",
    "* you can use the `abs()` function to find the positive difference between two numbers\n",
    "* if you append all new guesses to the list, then the previous guess is given as `guesses[-2]`"
   ]
  },
  {
   "cell_type": "code",
   "execution_count": null,
   "metadata": {},
   "outputs": [
    {
     "name": "stdout",
     "output_type": "stream",
     "text": [
      "Try to guess a randome number!\n",
      "\n",
      "The computer has generated a random number between 1-100\n",
      "\n",
      "If your guess it within 10 of the number it you will see WARM\n",
      "else you will see COLD\n",
      "additionally you will also see WARMER and COLDER to guide you towards the number\n"
     ]
    }
   ],
   "source": [
    "import random\n",
    "num = random.randint(1,100)\n",
    "\n",
    "print(\"Try to guess a randome number!\")\n",
    "print(\"\\nThe computer has generated a random number between 1-100\")\n",
    "print(\"\\nIf your guess it within 10 of the number it you will see WARM\")\n",
    "print(\"else you will see COLD\")\n",
    "print(\"additionally you will also see WARMER and COLDER to guide you towards the number\")\n",
    "\n",
    "guesses = [0]\n",
    "count = 0\n",
    "\n",
    "while True:\n",
    "    uGuess = input(\"enter your guess: \")\n",
    "    uGuess = int(uGuess)\n",
    "    if uGuess<0 or uGuess>100:\n",
    "        print(\"guess invalid, out of range\")\n",
    "    else:\n",
    "        if count == 0:\n",
    "            guesses[0] = uGuess\n",
    "            count+=1\n",
    "        elif uGuess == num:\n",
    "            count+=1\n",
    "            guesses.append(uGuess)\n",
    "            print(\"congratulations you have guessed the correct number!\")\n",
    "            print(\"it only took you \", (count+1), \" turns\")\n",
    "            break\n",
    "        else:\n",
    "            if uGuess<(num+10) and uGuess>(num-10):\n",
    "                print(\"warm\")\n",
    "                guesses.append(uGuess)\n",
    "                if uGuess<guesses[count] and uGuess>num:\n",
    "                    print(\"and warmer\");\n",
    "                    count+=1\n",
    "                elif uGuess>guesses[count] and uGuess<num:\n",
    "                    print(\"and warmer\")\n",
    "                    count+=1\n",
    "                else:\n",
    "                    print(\"and colder\")\n",
    "                    count+=1\n",
    "            else:\n",
    "                print(\"cold\")\n",
    "                guesses.append(uGuess)\n",
    "                if uGuess<guesses[count] and uGuess>num:\n",
    "                    print(\"and warmer\");\n",
    "                    count+=1\n",
    "                elif uGuess>guesses[count] and uGuess<num:\n",
    "                    print(\"and warmer\")\n",
    "                    count+=1\n",
    "                else:\n",
    "                    print(\"and colder\")\n",
    "                    count+=1\n",
    "\n",
    "    pass"
   ]
  },
  {
   "cell_type": "markdown",
   "metadata": {},
   "source": [
    "That's it! :) "
   ]
  }
 ],
 "metadata": {
  "kernelspec": {
   "display_name": "Python 3",
   "language": "python",
   "name": "python3"
  },
  "language_info": {
   "codemirror_mode": {
    "name": "ipython",
    "version": 3
   },
   "file_extension": ".py",
   "mimetype": "text/x-python",
   "name": "python",
   "nbconvert_exporter": "python",
   "pygments_lexer": "ipython3",
   "version": "3.8.3"
  }
 },
 "nbformat": 4,
 "nbformat_minor": 2
}
