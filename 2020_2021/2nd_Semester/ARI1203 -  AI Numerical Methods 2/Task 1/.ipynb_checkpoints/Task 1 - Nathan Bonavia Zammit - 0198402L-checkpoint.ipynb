{
 "cells": [
  {
   "cell_type": "code",
   "execution_count": 1,
   "metadata": {},
   "outputs": [
    {
     "name": "stdout",
     "output_type": "stream",
     "text": [
      "Linking Matrix: \n",
      "[[0.         0.         0.33333333 0.         0.        ]\n",
      " [0.33333333 0.         0.33333333 0.5        0.        ]\n",
      " [0.         0.         0.         0.5        1.        ]\n",
      " [0.33333333 0.         0.33333333 0.         0.        ]\n",
      " [0.33333333 1.         0.         0.         0.        ]]\n"
     ]
    }
   ],
   "source": [
    "import numpy as np\n",
    "import numpy.linalg as la\n",
    "from fractions import Fraction\n",
    "import random\n",
    "\n",
    "#Part 1: PageRank using Linear Algebra\n",
    "# 1a). Create the link matrix L that corresponds to the internet system in Figure 2\n",
    "\n",
    "L = np.array([[0,0,1/3,0,0],\n",
    "             [1/3,0,1/3,1/2,0],\n",
    "             [0,0,0,1/2,1],\n",
    "             [1/3,0,1/3,0,0],\n",
    "             [1/3,1,0,0,0]])\n",
    "print(\"Linking Matrix: \")\n",
    "print(L)"
   ]
  },
  {
   "cell_type": "code",
   "execution_count": 2,
   "metadata": {},
   "outputs": [
    {
     "name": "stdout",
     "output_type": "stream",
     "text": [
      "[ 1.        +0.j        -0.19935713+0.6613774j -0.19935713-0.6613774j\n",
      " -0.30064287+0.1613774j -0.30064287-0.1613774j]\n",
      " \n",
      "[[ 0.21707238+0.j          0.09012837+0.29900543j  0.09012837-0.29900543j\n",
      "  -0.56508906-0.30332535j -0.56508906+0.30332535j]\n",
      " [ 0.43414476+0.j          0.3201617 +0.02115627j  0.3201617 -0.02115627j\n",
      "   0.21536735+0.087958j    0.21536735-0.087958j  ]\n",
      " [ 0.65121714+0.j         -0.64716951+0.j         -0.64716951-0.j\n",
      "   0.65651957+0.j          0.65651957-0.j        ]\n",
      " [ 0.28942984+0.j          0.21572317+0.21572317j  0.21572317-0.21572317j\n",
      "  -0.21883986+0.21883986j -0.21883986-0.21883986j]\n",
      " [ 0.50650222+0.j          0.02115627-0.53588487j  0.02115627+0.53588487j\n",
      "  -0.087958  -0.00347251j -0.087958  +0.00347251j]]\n"
     ]
    }
   ],
   "source": [
    "# 1b).Compute the percentage number of surfers for each of the 5 webpages. \n",
    "\n",
    "eigenVal, eigenVec = la.eig(L)\n",
    "print(eigenVal) #prints the eigen values\n",
    "print(\" \")\n",
    "print(eigenVec) #prints the eigen vectors"
   ]
  },
  {
   "cell_type": "code",
   "execution_count": 3,
   "metadata": {},
   "outputs": [
    {
     "name": "stdout",
     "output_type": "stream",
     "text": [
      "[[0.21707238+0.j]\n",
      " [0.43414476+0.j]\n",
      " [0.65121714+0.j]\n",
      " [0.28942984+0.j]\n",
      " [0.50650222+0.j]]\n"
     ]
    }
   ],
   "source": [
    "#function obtained from https://stackoverflow.com/questions/11105375/how-to-split-a-matrix-into-4-blocks-using-numpy?fbclid=IwAR3e-NNKNb-VahHhsocUM6yGutJoikAHjuvNWSQq7PkL67IYmYIH8QZeBO4\n",
    "\n",
    "def split(array, nrows, ncols):\n",
    "    \"\"\"Split a matrix into sub-matrices.\"\"\"\n",
    "    \n",
    "    r,h = array.shape\n",
    "    return (array.reshape(h//nrows, nrows, -1, ncols)\n",
    "               .swapaxes(1, 2)\n",
    "               .reshape(-1, nrows, ncols))\n",
    "\n",
    "A, B, C, D, E = split(eigenVec, 5,1)\n",
    "\n",
    "# Answer for 1b).:\n",
    "print(A)"
   ]
  },
  {
   "cell_type": "code",
   "execution_count": 4,
   "metadata": {},
   "outputs": [
    {
     "name": "stdout",
     "output_type": "stream",
     "text": [
      "[10.34482759+0.j]\n",
      "[20.68965517+0.j]\n",
      "[31.03448276+0.j]\n",
      "[13.79310345+0.j]\n",
      "[24.13793103+0.j]\n"
     ]
    }
   ],
   "source": [
    "#Part 2: PageRank using Power Iteration\n",
    "#2a). Create an initial vector r that represents the percentage of people on each webpage at time t = 0.\n",
    "total = 0\n",
    "\n",
    "for i in A:\n",
    "    total = total + i\n",
    "    \n",
    "for i in A:\n",
    "    print(i/total * 100) #Calculating the percentage"
   ]
  },
  {
   "cell_type": "code",
   "execution_count": 5,
   "metadata": {},
   "outputs": [
    {
     "name": "stdout",
     "output_type": "stream",
     "text": [
      "[10.]\n",
      "[18.88888889]\n",
      "[33.33333333]\n",
      "[12.22222222]\n",
      "[25.55555556]\n",
      "\n",
      "The number of iterations:  2\n"
     ]
    }
   ],
   "source": [
    "#2b). Compute the percentage number of surfers for each of the 5 webpages by iteratively\n",
    "#     updating r using the matrix L until r becomes stable. Use a tolerance of 0.005, i.e.\n",
    "#     the norm of r should not change by more than 0.005 when r becomes stable. Print\n",
    "#     the number of iterations till convergence.\n",
    "\n",
    "L_iterative = L\n",
    "count = 0\n",
    "tolerance = 0.005\n",
    "difference = 0\n",
    "\n",
    "t= np.array([[0.2],\n",
    "           [0.2],\n",
    "           [0.2],\n",
    "           [0.2],\n",
    "           [0.2]])\n",
    "\n",
    "while True:\n",
    "    temp = np.dot(L_iterative, t)\n",
    "    difference = abs(la.norm(temp) - la.norm(t))\n",
    "    t = temp\n",
    "    count = count + 1\n",
    "    \n",
    "    if difference <= tolerance:\n",
    "        break\n",
    "        \n",
    "for i in t:\n",
    "    print(i*100)\n",
    "    \n",
    "print(\"\\nThe number of iterations: \", count)"
   ]
  },
  {
   "cell_type": "code",
   "execution_count": 6,
   "metadata": {},
   "outputs": [
    {
     "name": "stdout",
     "output_type": "stream",
     "text": [
      "[[0.08333333 0.08333333 0.25       0.08333333 0.08333333 0.08333333]\n",
      " [0.25       0.08333333 0.25       0.33333333 0.08333333 0.08333333]\n",
      " [0.08333333 0.08333333 0.08333333 0.33333333 0.58333333 0.08333333]\n",
      " [0.25       0.08333333 0.25       0.08333333 0.08333333 0.08333333]\n",
      " [0.25       0.58333333 0.08333333 0.08333333 0.08333333 0.08333333]\n",
      " [0.08333333 0.08333333 0.08333333 0.08333333 0.08333333 0.58333333]]\n"
     ]
    }
   ],
   "source": [
    "#Part 3: Damping Factor\n",
    "# 3a). Compute matrix M.\n",
    "\n",
    "L_2 = np.array([[0,0,1/3,0,0,0],\n",
    "             [1/3,0,1/3,1/2,0,0],\n",
    "             [0,0,0,1/2,1,0],\n",
    "             [1/3,0,1/3,0,0,0],\n",
    "             [1/3,1,0,0,0,0],\n",
    "             [0,0,0,0,0,1]])\n",
    "\n",
    "L_2_iterative = L_2\n",
    "count = 0\n",
    "difference = 0\n",
    "tolerance = 0.005\n",
    "\n",
    "t_2 = np.array([[1/6],\n",
    "               [1/6],\n",
    "               [1/6],\n",
    "               [1/6],\n",
    "               [1/6],\n",
    "               [1/6]])\n",
    "\n",
    "d = 0.5\n",
    "dl = L_2_iterative * d\n",
    "dn = (1-d)/6 * np.ones([6,6]) #creates a 6 by 6 array of 1s\n",
    "\n",
    "m = dl + dn\n",
    "print(m)"
   ]
  },
  {
   "cell_type": "code",
   "execution_count": 7,
   "metadata": {},
   "outputs": [
    {
     "name": "stdout",
     "output_type": "stream",
     "text": [
      "[11.80555556]\n",
      "[17.12962963]\n",
      "[21.52777778]\n",
      "[13.65740741]\n",
      "[19.21296296]\n",
      "[16.66666667]\n",
      "\n",
      "The number of iterations:  2\n"
     ]
    }
   ],
   "source": [
    "# 3b). Compute the percentage number of surfers for each of the 6 webpages. Use a tolerance of 0.005. Print the number of iterations till convergence.\n",
    "\n",
    "while True:\n",
    "    temp2 = np.dot(m,t_2)\n",
    "    difference = abs(la.norm(temp2) - la.norm(t_2))\n",
    "    t_2 = temp2\n",
    "    count = count + 1\n",
    "    \n",
    "    if difference <= tolerance:\n",
    "        break\n",
    "        \n",
    "for i in t_2:\n",
    "    print(i*100)\n",
    "    \n",
    "print(\"\\nThe number of iterations: \", count)"
   ]
  },
  {
   "cell_type": "code",
   "execution_count": 8,
   "metadata": {},
   "outputs": [
    {
     "name": "stdout",
     "output_type": "stream",
     "text": [
      "[[0.         0.         0.         0.33333333 0.33333333 0.16666667\n",
      "  0.2       ]\n",
      " [0.         0.         0.         0.33333333 0.         0.16666667\n",
      "  0.2       ]\n",
      " [0.         0.         0.33333333 0.         0.33333333 0.16666667\n",
      "  0.        ]\n",
      " [0.         0.         0.         0.33333333 0.         0.16666667\n",
      "  0.2       ]\n",
      " [0.5        1.         0.33333333 0.         0.         0.\n",
      "  0.        ]\n",
      " [0.         0.         0.         0.         0.33333333 0.16666667\n",
      "  0.2       ]\n",
      " [0.5        0.         0.33333333 0.         0.         0.16666667\n",
      "  0.2       ]]\n",
      "\n",
      " [[0.11805556]\n",
      " [0.1712963 ]\n",
      " [0.21527778]\n",
      " [0.13657407]\n",
      " [0.19212963]\n",
      " [0.16666667]]\n"
     ]
    }
   ],
   "source": [
    "#Part 4: Damping Factor\n",
    "# 4a). Write a function called generate_network that takes in a variable N and returns a random link matrix for a network that is made up of N webpages.\n",
    "\n",
    "def generate_network(N): #definition of function to be used \n",
    "    matrix = np.zeros((N, N)) #creates an array of 0s\n",
    "    \n",
    "    i = 0\n",
    "    j = 0\n",
    "    while i < N:\n",
    "        j = 0\n",
    "        while j < N:\n",
    "            matrix[i][j] = random.choice([0,1])\n",
    "            j = j+1\n",
    "        i = i+1\n",
    "        \n",
    "    i = 0\n",
    "    j = 0\n",
    "    total = 0\n",
    "    while i < N:\n",
    "        j = 0\n",
    "        while j < N:\n",
    "            total = total + matrix[i][j]\n",
    "            j = j+1\n",
    "        j = 0\n",
    "        while j < N:\n",
    "            if matrix[i][j] == 1:\n",
    "                matrix[i][j] = 1/total\n",
    "            j = j+1\n",
    "        total = 0\n",
    "        i = i+1\n",
    "        \n",
    "    matrix = matrix.transpose()\n",
    "    \n",
    "    return matrix\n",
    "\n",
    "# 4b). Write a function called page_rank that takes as input a link matrix (of any size) and the damping factor d, and returns the vector of percentages r.\n",
    "\n",
    "def page_rank(matrix, damping): #definition of function to be used\n",
    "    size = len(matrix)\n",
    "    \n",
    "    at_t = np.full((size, 1), 1/size)\n",
    "    iterative_count = 0\n",
    "    tolerance = 0.005\n",
    "    difference = 0\n",
    "    \n",
    "    J = np.ones([size,size]) #array full of 1s\n",
    "    \n",
    "    m = (d * matrix) + ((1-d)/ size) * J\n",
    "\n",
    "    while True:\n",
    "        temps = np.dot(m, at_t)\n",
    "        difference = abs(la.norm(temps) - la.norm(at_t))\n",
    "        at_t = temps\n",
    "        iterative_count = iterative_count + 1\n",
    "        \n",
    "        if difference <= tolerance:\n",
    "            break\n",
    "            \n",
    "    return at_t\n",
    "\n",
    "\n",
    "#testing the functions out\n",
    "\n",
    "test_matrix = generate_network(7)\n",
    "print(test_matrix)\n",
    "\n",
    "PageRank_Test = page_rank(L_2, 0.5)\n",
    "print(\"\\n\",PageRank_Test)"
   ]
  },
  {
   "cell_type": "code",
   "execution_count": null,
   "metadata": {},
   "outputs": [],
   "source": []
  }
 ],
 "metadata": {
  "kernelspec": {
   "display_name": "Python 3",
   "language": "python",
   "name": "python3"
  },
  "language_info": {
   "codemirror_mode": {
    "name": "ipython",
    "version": 3
   },
   "file_extension": ".py",
   "mimetype": "text/x-python",
   "name": "python",
   "nbconvert_exporter": "python",
   "pygments_lexer": "ipython3",
   "version": "3.8.5"
  }
 },
 "nbformat": 4,
 "nbformat_minor": 4
}
