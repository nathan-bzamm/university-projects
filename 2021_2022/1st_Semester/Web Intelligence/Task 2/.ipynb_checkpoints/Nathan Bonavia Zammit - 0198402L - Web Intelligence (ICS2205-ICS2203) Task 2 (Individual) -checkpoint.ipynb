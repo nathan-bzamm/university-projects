{
 "cells": [
  {
   "cell_type": "markdown",
   "metadata": {},
   "source": [
    "### Details\n",
    "\n",
    "This document contains the details of Task 2 for ICS2205. The task will be marked out of 100%, however it is equivalent to 10% of the total mark for this unit. <br> \n",
    "While discussions between individual students are considered as healthy, the final deliverable needs to be that produced by you and **not plagiarised** in any way. The **deadline** to submit this task is **12:00pm Monday 29th November 2021**.<br>\n",
    "You need to compile your answer to the task described below in this same notebook. Then upload it, together with a duely filled plagiarism form, onto the appropriate space on the VLE. Deliverables submitted late will be penalised or may not be accepted."
   ]
  },
  {
   "cell_type": "markdown",
   "metadata": {},
   "source": [
    "### Interfacing NetworkX with Neo4j"
   ]
  },
  {
   "cell_type": "markdown",
   "metadata": {},
   "source": [
    "Neo4j is an important graph platform and is more than a persistant storage for graph data. It provides graph algorithms that are scaleable and production-ready. In this task you will need to combine Neo4j with NetworkX. To do this you need to use the **nxneo4j** Python library.\n"
   ]
  },
  {
   "cell_type": "markdown",
   "metadata": {},
   "source": [
    "Install the latest version of nxneo4j as follows:"
   ]
  },
  {
   "cell_type": "code",
   "execution_count": 1,
   "metadata": {},
   "outputs": [
    {
     "name": "stdout",
     "output_type": "stream",
     "text": [
      "Collecting git+https://github.com/ybaktir/networkx-neo4j\n",
      "  Cloning https://github.com/ybaktir/networkx-neo4j to c:\\users\\natha\\appdata\\local\\temp\\pip-req-build-olc3n2fs\n",
      "Collecting neo4j-driver\n",
      "  Downloading neo4j-driver-4.4.0.tar.gz (89 kB)\n",
      "Requirement already satisfied: pytz in c:\\users\\natha\\anaconda3\\lib\\site-packages (from neo4j-driver->networkx-neo4j==0.0.3) (2020.1)\n",
      "Building wheels for collected packages: networkx-neo4j, neo4j-driver\n",
      "  Building wheel for networkx-neo4j (setup.py): started\n",
      "  Building wheel for networkx-neo4j (setup.py): finished with status 'done'\n",
      "  Created wheel for networkx-neo4j: filename=networkx_neo4j-0.0.3-py3-none-any.whl size=13779 sha256=c953ab8c120dfe9ce860e26f4b9af5cac0eca2fc45d87ead8b07c3e8ab698a1b\n",
      "  Stored in directory: C:\\Users\\natha\\AppData\\Local\\Temp\\pip-ephem-wheel-cache-504i9_y2\\wheels\\cc\\60\\dd\\5b2ed5bf4ba4f10077be9331dc8273624c116a5e506feaa70e\n",
      "  Building wheel for neo4j-driver (setup.py): started\n",
      "  Building wheel for neo4j-driver (setup.py): finished with status 'done'\n",
      "  Created wheel for neo4j-driver: filename=neo4j_driver-4.4.0-py3-none-any.whl size=114955 sha256=b13b976861f4ab08e045ae2a3dc6f7b7187b35bde8ee3fa172a3640513cdc2c1\n",
      "  Stored in directory: c:\\users\\natha\\appdata\\local\\pip\\cache\\wheels\\18\\5d\\c9\\222ea858ffbed4ad02afb8f60504625c059e68592416e9eac9\n",
      "Successfully built networkx-neo4j neo4j-driver\n",
      "Installing collected packages: neo4j-driver, networkx-neo4j\n",
      "Successfully installed neo4j-driver-4.4.0 networkx-neo4j-0.0.3\n"
     ]
    }
   ],
   "source": [
    "! pip install git+https://github.com/ybaktir/networkx-neo4j"
   ]
  },
  {
   "cell_type": "markdown",
   "metadata": {},
   "source": [
    "#### Connect to Neo4j"
   ]
  },
  {
   "cell_type": "code",
   "execution_count": 1,
   "metadata": {},
   "outputs": [],
   "source": [
    "from neo4j import GraphDatabase, basic_auth"
   ]
  },
  {
   "cell_type": "markdown",
   "metadata": {},
   "source": [
    "For this task you will be using a [Neo4j blank sandbox](https://neo4j.com/sandbox/). Once the instance has started check the connection details tab to find the **Bolt URL** and the **password**. By default the user name is **neo4j**. Update the code below with the details to connect to Neo4j sandbox."
   ]
  },
  {
   "cell_type": "code",
   "execution_count": 2,
   "metadata": {},
   "outputs": [],
   "source": [
    "graph = GraphDatabase.driver(\"bolt://3.227.247.8:7687\", auth=basic_auth(\"neo4j\",\"vices-shop-functions\"))"
   ]
  },
  {
   "cell_type": "markdown",
   "metadata": {},
   "source": [
    "Access the Neo4j sandbox and inspect the database by openning it with the browser"
   ]
  },
  {
   "cell_type": "code",
   "execution_count": 3,
   "metadata": {},
   "outputs": [],
   "source": [
    "import nxneo4j as nx #using nxneo4j"
   ]
  },
  {
   "cell_type": "code",
   "execution_count": 4,
   "metadata": {},
   "outputs": [],
   "source": [
    "G = nx.Graph(graph) #create the empty graph"
   ]
  },
  {
   "cell_type": "markdown",
   "metadata": {},
   "source": [
    "#### Analyse the Game of Thrones dataset"
   ]
  },
  {
   "cell_type": "markdown",
   "metadata": {},
   "source": [
    "nxneo4j contains a number of built-in datasets. One of these datasets is build around the popular TV series of Game of Thrones. The dataset is based around that created by [Andrew Beveridge](https://networkofthrones.wordpress.com/) and contains the interactions between the characters of the popular TV series. The nodes are labelled \"Character\" while the relationships include \"INTERACTS1\", \"INTERACTS2\", \"INTERACTS3\" and \"INTERACTS45\" which represent the interactions between the characters across the various books (1 to 5)."
   ]
  },
  {
   "cell_type": "markdown",
   "metadata": {},
   "source": [
    "Load the dataset"
   ]
  },
  {
   "cell_type": "code",
   "execution_count": 5,
   "metadata": {},
   "outputs": [],
   "source": [
    "G.load_got()"
   ]
  },
  {
   "cell_type": "markdown",
   "metadata": {},
   "source": [
    "Draw the graph using nxneo4j"
   ]
  },
  {
   "cell_type": "code",
   "execution_count": 6,
   "metadata": {},
   "outputs": [
    {
     "data": {
      "text/html": [
       "\n",
       "        <iframe\n",
       "            width=\"100%\"\n",
       "            height=\"500\"\n",
       "            src=\"vis.html\"\n",
       "            frameborder=\"0\"\n",
       "            allowfullscreen\n",
       "        ></iframe>\n",
       "        "
      ],
      "text/plain": [
       "<IPython.lib.display.IFrame at 0x22bdc4beee0>"
      ]
     },
     "execution_count": 6,
     "metadata": {},
     "output_type": "execute_result"
    }
   ],
   "source": [
    "G.identifier_property  = 'name'\n",
    "G.relationship_type = '*'\n",
    "G.node_label = 'Character'\n",
    "nx.draw(G)"
   ]
  },
  {
   "cell_type": "markdown",
   "metadata": {},
   "source": [
    "Find how many nodes the graph contains"
   ]
  },
  {
   "cell_type": "code",
   "execution_count": 7,
   "metadata": {},
   "outputs": [
    {
     "name": "stdout",
     "output_type": "stream",
     "text": [
      "The number of nodes that the graph contains is:  796\n"
     ]
    }
   ],
   "source": [
    "numberOfNodes = len(G)\n",
    "print(\"The number of nodes that the graph contains is: \", numberOfNodes)"
   ]
  },
  {
   "cell_type": "markdown",
   "metadata": {},
   "source": [
    "Compute PageRank, sort the results and print out the first 5 results"
   ]
  },
  {
   "cell_type": "code",
   "execution_count": 8,
   "metadata": {},
   "outputs": [
    {
     "name": "stdout",
     "output_type": "stream",
     "text": [
      "Jon-Snow 17.596878939369677\n",
      "Tyrion-Lannister 17.56810234895046\n",
      "Jaime-Lannister 13.92547230647357\n",
      "Cersei-Lannister 13.402357010904186\n",
      "Daenerys-Targaryen 12.499194895817286\n"
     ]
    }
   ],
   "source": [
    "got_pr = nx.pagerank(G)\n",
    "pr_sorted = sorted(got_pr.items(), key=lambda x: x[1], reverse=True)\n",
    "for character, score in pr_sorted[:5]:\n",
    "    print(character, score)"
   ]
  },
  {
   "cell_type": "markdown",
   "metadata": {},
   "source": [
    "Compute Betweenness Centrality. sort the results and print out the first 5 results"
   ]
  },
  {
   "cell_type": "code",
   "execution_count": 9,
   "metadata": {},
   "outputs": [
    {
     "name": "stdout",
     "output_type": "stream",
     "text": [
      "Jon-Snow 65395.267871654345\n",
      "Tyrion-Lannister 50202.17398521848\n",
      "Daenerys-Targaryen 39636.77718662114\n",
      "Stannis-Baratheon 35984.21182863314\n",
      "Theon-Greyjoy 35436.85268519103\n"
     ]
    }
   ],
   "source": [
    "got_bc = nx.betweenness_centrality(G)\n",
    "bc_sorted = sorted(got_bc.items(), key=lambda x: x[1], reverse=True)\n",
    "for character, score in bc_sorted[:5]:\n",
    "    print(character, score)"
   ]
  },
  {
   "cell_type": "markdown",
   "metadata": {},
   "source": [
    "Now switch to the Neo4j sandbox and access the database through the browser. Query directly the database using Cypher to find out the following:\n",
    "\n",
    "1. Count the number of edges.\n",
    "2. Display the graph based on the relationships of the character with the highest PageRank (from above).\n",
    "3. Degree centrality is simply the number of connections that a node has in the network. In this context the degree centrality of a character is simply the number of other characters that interacted with it. Compute the degree centrality by considering **only** the **INTERACTIONS2** relation."
   ]
  },
  {
   "cell_type": "markdown",
   "metadata": {},
   "source": [
    "Add the Cypher queries below:"
   ]
  },
  {
   "cell_type": "markdown",
   "metadata": {},
   "source": [
    "MATCH ()-[r]->() RETURN count(r) as count"
   ]
  },
  {
   "cell_type": "markdown",
   "metadata": {},
   "source": [
    "MATCH(n:Character) WHERE n.name = \"Jon-Snow\" RETURN n"
   ]
  },
  {
   "cell_type": "markdown",
   "metadata": {},
   "source": [
    "CALL gds.betweenness.stream({nodeProjection: \"Character\", relationshipProjection:{INTERACTS2:{orientation:'UNDIRECTED'}}})YIELD nodeId, score RETURN gds.util.asNode(nodeId).name AS name, score ORDER BY score DESC LIMIT 10"
   ]
  },
  {
   "cell_type": "markdown",
   "metadata": {},
   "source": [
    "#### References"
   ]
  },
  {
   "cell_type": "markdown",
   "metadata": {},
   "source": [
    "1. NetworkX-Neo4j example: https://github.com/ybaktir/networkx-neo4j/blob/master/examples/nxneo4j_tutorial_latest.ipynb\n",
    "2. Further information to how to use Neo4j from Python: https://neo4j.com/developer/python/"
   ]
  }
 ],
 "metadata": {
  "kernelspec": {
   "display_name": "Python 3",
   "language": "python",
   "name": "python3"
  },
  "language_info": {
   "codemirror_mode": {
    "name": "ipython",
    "version": 3
   },
   "file_extension": ".py",
   "mimetype": "text/x-python",
   "name": "python",
   "nbconvert_exporter": "python",
   "pygments_lexer": "ipython3",
   "version": "3.8.5"
  }
 },
 "nbformat": 4,
 "nbformat_minor": 4
}
