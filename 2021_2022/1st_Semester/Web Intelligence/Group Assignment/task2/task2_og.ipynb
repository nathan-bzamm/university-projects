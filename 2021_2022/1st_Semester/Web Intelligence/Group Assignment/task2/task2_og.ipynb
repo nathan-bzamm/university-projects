{
 "cells": [
  {
   "cell_type": "code",
   "execution_count": 27,
   "metadata": {},
   "outputs": [
    {
     "name": "stderr",
     "output_type": "stream",
     "text": [
      "[nltk_data] Downloading package punkt to\n",
      "[nltk_data]     C:\\Users\\natha\\AppData\\Roaming\\nltk_data...\n",
      "[nltk_data]   Package punkt is already up-to-date!\n",
      "[nltk_data] Downloading package stopwords to\n",
      "[nltk_data]     C:\\Users\\natha\\AppData\\Roaming\\nltk_data...\n",
      "[nltk_data]   Package stopwords is already up-to-date!\n"
     ]
    }
   ],
   "source": [
    "import os\n",
    "\n",
    "from email.parser import Parser\n",
    "\n",
    "import nltk\n",
    "from nltk.tokenize import word_tokenize\n",
    "from nltk.corpus import stopwords\n",
    "from nltk.stem import PorterStemmer\n",
    "nltk.download('punkt')\n",
    "nltk.download('stopwords')\n",
    "\n",
    "import numpy as np"
   ]
  },
  {
   "cell_type": "code",
   "execution_count": 28,
   "metadata": {},
   "outputs": [],
   "source": [
    "def getListOfEmails():\n",
    "    dirName = 'maildir'\n",
    "\n",
    "    listOfFiles = []\n",
    "\n",
    "    for (dirpath, dirnames, filenames) in os.walk(dirName):\n",
    "        listOfFiles += [os.path.join(dirpath, file) for file in filenames]\n",
    "\n",
    "    return listOfFiles"
   ]
  },
  {
   "cell_type": "code",
   "execution_count": 29,
   "metadata": {},
   "outputs": [],
   "source": [
    "def parseEmail(filename):\n",
    "    content = processEmail(filename)\n",
    "    data = tokenizeEmail(content)\n",
    "    data = casefoldEmail(data)\n",
    "    data = stopwordRemoval(data)\n",
    "    data = stemEmail(data)\n",
    "\n",
    "    return data\n",
    "\n",
    "def processEmail(filename):\n",
    "   \n",
    "    sender = ''\n",
    "    reciever = ''\n",
    "    subject = ''\n",
    "    content = ''\n",
    "\n",
    "    with open(\"maildir\\\\allen-p\\contacts\\\\1\", 'r') as f:\n",
    "        data = f.read()\n",
    "        email = Parser().parsestr(data)\n",
    "        content =  email.get_payload()\n",
    "\n",
    "    return content \n",
    "\n",
    "def tokenizeEmail(content):\n",
    "\n",
    "    tokens = word_tokenize(content)\n",
    "\n",
    "    return tokens\n",
    "\n",
    "def casefoldEmail(tokens):\n",
    "\n",
    "    caseFold = []\n",
    "\n",
    "    for token in tokens:\n",
    "        caseFold.append(token.casefold())\n",
    "\n",
    "    return caseFold\n",
    "\n",
    "def stopwordRemoval(caseFold):\n",
    "\n",
    "    stop_words = set(stopwords.words('english'))\n",
    "\n",
    "    stopWordsRemoved = []\n",
    "\n",
    "    for word in caseFold: \n",
    "        if word not in stop_words:\n",
    "            stopWordsRemoved.append(word)\n",
    "\n",
    "    return stopWordsRemoved\n",
    "    \n",
    "def stemEmail(stopWordsRemoved):\n",
    "\n",
    "    porter = PorterStemmer()\n",
    "\n",
    "    stemmed = []\n",
    "\n",
    "    for term in stopWordsRemoved:\n",
    "        stemmed.append(porter.stem(term))   \n",
    "    \n",
    "    return stemmed\n",
    "\n"
   ]
  },
  {
   "cell_type": "code",
   "execution_count": 30,
   "metadata": {},
   "outputs": [],
   "source": [
    "def getUniqueTokens(listOfFiles):\n",
    "    uniqueTokens= []\n",
    "\n",
    "    tokens = parseEmail(listOfFiles)\n",
    "\n",
    "    for token in tokens:\n",
    "        if token not in uniqueTokens:\n",
    "            uniqueTokens.append(token)\n",
    "        \n",
    "    return uniqueTokens\n",
    "        "
   ]
  },
  {
   "cell_type": "code",
   "execution_count": 31,
   "metadata": {},
   "outputs": [],
   "source": [
    "def getDF(): \n",
    "    docFreq = {}\n",
    "\n",
    "    for term in uniqueTokens:\n",
    "        uniqueTokens[term] = 0\n",
    "\n",
    "        for token in uniqueTokens:\n",
    "            if term in token:\n",
    "                docFreq[term] += 1\n",
    "\n",
    "    return docFreq\n",
    "\n",
    "def getTF(doc,term):\n",
    "    \n",
    "    numOfWords = len(doc)\n",
    "    \n",
    "    occurance = len([token for token in doc if token == term])\n",
    "    \n",
    "    tokenFreq = occurance/numOfWords\n",
    "    \n",
    "    return tokenFreq\n",
    "\n",
    "def getIDF(term):\n",
    "    \n",
    "    try:\n",
    "        occurance = docFreq[term] + 1\n",
    "    except:\n",
    "        occurance = 1\n",
    "        \n",
    "    IDF = np.log2(len(documents)/float(occurance))\n",
    "\n",
    "    return IDF"
   ]
  },
  {
   "cell_type": "code",
   "execution_count": 32,
   "metadata": {},
   "outputs": [],
   "source": [
    "def __main__():\n",
    "    listOfFiles = getListOfEmails()\n",
    "    wordBank = getUniqueTokens(listOfFiles[0])\n",
    "    print(wordBank)\n",
    "    "
   ]
  },
  {
   "cell_type": "code",
   "execution_count": 33,
   "metadata": {},
   "outputs": [
    {
     "name": "stdout",
     "output_type": "stream",
     "text": [
      "['loan', 'servicing-jessica', 'weeber', '800-393-5626', 'jweeber', '@', 'spbank.com']\n"
     ]
    }
   ],
   "source": [
    "if __name__ == \"__main__\":\n",
    "    __main__()"
   ]
  },
  {
   "cell_type": "code",
   "execution_count": null,
   "metadata": {},
   "outputs": [],
   "source": []
  }
 ],
 "metadata": {
  "interpreter": {
   "hash": "469b108ee6088b42383d6649ea000749c485900e46f50462f3ca26dcec417061"
  },
  "kernelspec": {
   "display_name": "Python 3.8.5 64-bit ('base': conda)",
   "language": "python",
   "name": "python3"
  },
  "language_info": {
   "codemirror_mode": {
    "name": "ipython",
    "version": 3
   },
   "file_extension": ".py",
   "mimetype": "text/x-python",
   "name": "python",
   "nbconvert_exporter": "python",
   "pygments_lexer": "ipython3",
   "version": "3.8.5"
  },
  "orig_nbformat": 4
 },
 "nbformat": 4,
 "nbformat_minor": 2
}
