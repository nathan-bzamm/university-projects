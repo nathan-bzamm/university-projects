{
 "cells": [
  {
   "cell_type": "code",
   "execution_count": 1,
   "metadata": {},
   "outputs": [
    {
     "name": "stderr",
     "output_type": "stream",
     "text": [
      "[nltk_data] Downloading package punkt to\n",
      "[nltk_data]     C:\\Users\\natha\\AppData\\Roaming\\nltk_data...\n",
      "[nltk_data]   Package punkt is already up-to-date!\n",
      "[nltk_data] Downloading package stopwords to\n",
      "[nltk_data]     C:\\Users\\natha\\AppData\\Roaming\\nltk_data...\n",
      "[nltk_data]   Package stopwords is already up-to-date!\n"
     ]
    }
   ],
   "source": [
    "import os\n",
    "\n",
    "from email.parser import Parser\n",
    "\n",
    "import nltk\n",
    "from nltk.tokenize import word_tokenize\n",
    "from nltk.corpus import stopwords\n",
    "from nltk.stem import PorterStemmer\n",
    "nltk.download('punkt')\n",
    "nltk.download('stopwords')\n",
    "\n",
    "import numpy as np"
   ]
  },
  {
   "cell_type": "code",
   "execution_count": 2,
   "metadata": {},
   "outputs": [],
   "source": [
    "def getListOfEmails():\n",
    "    dirName = 'maildir'\n",
    "\n",
    "    listOfFiles = []\n",
    "\n",
    "    for (dirpath, dirnames, filenames) in os.walk(dirName):\n",
    "        listOfFiles += [os.path.join(dirpath, file) for file in filenames]\n",
    "\n",
    "    return listOfFiles"
   ]
  },
  {
   "cell_type": "code",
   "execution_count": 3,
   "metadata": {},
   "outputs": [],
   "source": [
    "def parseEmail(filename):\n",
    "    content = processEmail(filename)\n",
    "    data = tokenizeEmail(content)\n",
    "    data = casefoldEmail(data)\n",
    "    data = stopwordRemoval(data)\n",
    "    data = stemEmail(data)\n",
    "\n",
    "    return data\n",
    "\n",
    "def processEmail(filename):\n",
    "   \n",
    "    sender = ''\n",
    "    reciever = ''\n",
    "    subject = ''\n",
    "    content = ''\n",
    "\n",
    "    with open(filename, 'r') as f:\n",
    "        data = f.read()\n",
    "        email = Parser().parsestr(data)\n",
    "        content =  email.get_payload()\n",
    "\n",
    "    return content \n",
    "\n",
    "def tokenizeEmail(content):\n",
    "\n",
    "    tokens = word_tokenize(content)\n",
    "\n",
    "    return tokens\n",
    "\n",
    "def casefoldEmail(tokens):\n",
    "\n",
    "    caseFold = []\n",
    "\n",
    "    for token in tokens:\n",
    "        caseFold.append(token.casefold())\n",
    "\n",
    "    return caseFold\n",
    "\n",
    "def stopwordRemoval(caseFold):\n",
    "\n",
    "    stop_words = set(stopwords.words('english'))\n",
    "\n",
    "    stopWordsRemoved = []\n",
    "\n",
    "    for word in caseFold: \n",
    "        if word not in stop_words:\n",
    "            stopWordsRemoved.append(word)\n",
    "\n",
    "    return stopWordsRemoved\n",
    "    \n",
    "def stemEmail(stopWordsRemoved):\n",
    "\n",
    "    porter = PorterStemmer()\n",
    "\n",
    "    stemmed = []\n",
    "\n",
    "    for term in stopWordsRemoved:\n",
    "        stemmed.append(porter.stem(term))   \n",
    "    \n",
    "    return stemmed\n",
    "\n"
   ]
  },
  {
   "cell_type": "code",
   "execution_count": 4,
   "metadata": {},
   "outputs": [],
   "source": [
    "def getUniqueTokens(listOfFiles):\n",
    "    uniqueTokens= []\n",
    "\n",
    "    for file in listOfFiles:\n",
    "        tokens = parseEmail(file)\n",
    "\n",
    "        for token in tokens:\n",
    "            if token not in uniqueTokens:\n",
    "                uniqueTokens.append(token)\n",
    "        \n",
    "    return uniqueTokens\n",
    "        "
   ]
  },
  {
   "cell_type": "code",
   "execution_count": 19,
   "metadata": {},
   "outputs": [],
   "source": [
    "uniqueTokens = []\n",
    "\n",
    "def getDF(): \n",
    "    docFreq = {}\n",
    "\n",
    "    for term in uniqueTokens:\n",
    "        uniqueTokens[term] = 0\n",
    "\n",
    "        for token in uniqueTokens:\n",
    "            if term in token:\n",
    "                docFreq[term] += 1\n",
    "\n",
    "    return docFreq\n",
    "\n",
    "def getTF(doc,term):\n",
    "    \n",
    "    numOfWords = len(doc)\n",
    "    \n",
    "    occurance = len([token for token in doc if token == term])\n",
    "    \n",
    "    tokenFreq = occurance/numOfWords\n",
    "    \n",
    "    return tokenFreq\n",
    "\n",
    "def getIDF(term):\n",
    "    \n",
    "    try:\n",
    "        occurance = docFreq[term] + 1\n",
    "    except:\n",
    "        occurance = 1\n",
    "        \n",
    "    IDF = np.log2(len(uniqueTokens)/float(occurance))\n",
    "\n",
    "    return IDF\n"
   ]
  },
  {
   "cell_type": "code",
   "execution_count": null,
   "metadata": {},
   "outputs": [],
   "source": [
    "def getTFIDF(token):\n",
    "    TFIDF = np.zeros((len(uniqueTokens),))\n",
    "\n",
    "    "
   ]
  },
  {
   "cell_type": "code",
   "execution_count": 21,
   "metadata": {},
   "outputs": [
    {
     "ename": "NameError",
     "evalue": "name 'uniqueTokens' is not defined",
     "output_type": "error",
     "traceback": [
      "\u001b[1;31m---------------------------------------------------------------------------\u001b[0m",
      "\u001b[1;31mNameError\u001b[0m                                 Traceback (most recent call last)",
      "Input \u001b[1;32mIn [21]\u001b[0m, in \u001b[0;36m<module>\u001b[1;34m\u001b[0m\n\u001b[0;32m      9\u001b[0m     \u001b[38;5;28;01mreturn\u001b[39;00m TFIDF\n\u001b[0;32m     11\u001b[0m docTFIDF \u001b[38;5;241m=\u001b[39m []\n\u001b[1;32m---> 13\u001b[0m \u001b[38;5;28;01mfor\u001b[39;00m token \u001b[38;5;129;01min\u001b[39;00m \u001b[43muniqueTokens\u001b[49m:\n\u001b[0;32m     14\u001b[0m     vector \u001b[38;5;241m=\u001b[39m getTFIDF(token)\n\u001b[0;32m     15\u001b[0m     docTFIDF\u001b[38;5;241m.\u001b[39mappend(vector)\n",
      "\u001b[1;31mNameError\u001b[0m: name 'uniqueTokens' is not defined"
     ]
    }
   ],
   "source": [
    "# def getTFIDF(token):\n",
    "#     TFIDF = np.zeros((len(uniqueTokens),))\n",
    "    \n",
    "#     for term in token:\n",
    "#         vecTF = getTF(token, term)\n",
    "#         vecIDF = getIDF(term)\n",
    "#         TFIDF[glossary[term]] = vecTF * vecIDF\n",
    "        \n",
    "#     return TFIDF\n",
    "\n",
    "# docTFIDF = []\n",
    "\n",
    "# for token in uniqueTokens:\n",
    "#     vector = getTFIDF(token)\n",
    "#     docTFIDF.append(vector)"
   ]
  },
  {
   "cell_type": "code",
   "execution_count": null,
   "metadata": {},
   "outputs": [],
   "source": [
    "def __main__():\n",
    "    listOfFiles = getListOfEmails()\n",
    "    lof = [listOfFiles[0], listOfFiles[1], listOfFiles[2], listOfFiles[3], listOfFiles[4], listOfFiles[5]]\n",
    "    wordBank = getUniqueTokens(listOfFiles)\n",
    "    print(wordBank)\n",
    "    "
   ]
  },
  {
   "cell_type": "code",
   "execution_count": null,
   "metadata": {},
   "outputs": [
    {
     "ename": "KeyboardInterrupt",
     "evalue": "",
     "output_type": "error",
     "traceback": [
      "\u001b[1;31m---------------------------------------------------------------------------\u001b[0m",
      "\u001b[1;31mKeyboardInterrupt\u001b[0m                         Traceback (most recent call last)",
      "Input \u001b[1;32mIn [17]\u001b[0m, in \u001b[0;36m<module>\u001b[1;34m\u001b[0m\n\u001b[0;32m      1\u001b[0m \u001b[38;5;28;01mif\u001b[39;00m \u001b[38;5;18m__name__\u001b[39m \u001b[38;5;241m==\u001b[39m \u001b[38;5;124m\"\u001b[39m\u001b[38;5;124m__main__\u001b[39m\u001b[38;5;124m\"\u001b[39m:\n\u001b[1;32m----> 2\u001b[0m     \u001b[43m__main__\u001b[49m\u001b[43m(\u001b[49m\u001b[43m)\u001b[49m\n",
      "Input \u001b[1;32mIn [16]\u001b[0m, in \u001b[0;36m__main__\u001b[1;34m()\u001b[0m\n\u001b[0;32m      2\u001b[0m listOfFiles \u001b[38;5;241m=\u001b[39m getListOfEmails()\n\u001b[0;32m      3\u001b[0m lof \u001b[38;5;241m=\u001b[39m [listOfFiles[\u001b[38;5;241m0\u001b[39m], listOfFiles[\u001b[38;5;241m1\u001b[39m], listOfFiles[\u001b[38;5;241m2\u001b[39m], listOfFiles[\u001b[38;5;241m3\u001b[39m], listOfFiles[\u001b[38;5;241m4\u001b[39m], listOfFiles[\u001b[38;5;241m5\u001b[39m]]\n\u001b[1;32m----> 4\u001b[0m wordBank \u001b[38;5;241m=\u001b[39m \u001b[43mgetUniqueTokens\u001b[49m\u001b[43m(\u001b[49m\u001b[43mlistOfFiles\u001b[49m\u001b[43m)\u001b[49m\n\u001b[0;32m      5\u001b[0m \u001b[38;5;28mprint\u001b[39m(wordBank)\n",
      "Input \u001b[1;32mIn [4]\u001b[0m, in \u001b[0;36mgetUniqueTokens\u001b[1;34m(listOfFiles)\u001b[0m\n\u001b[0;32m      2\u001b[0m uniqueTokens\u001b[38;5;241m=\u001b[39m []\n\u001b[0;32m      4\u001b[0m \u001b[38;5;28;01mfor\u001b[39;00m file \u001b[38;5;129;01min\u001b[39;00m listOfFiles:\n\u001b[1;32m----> 5\u001b[0m     tokens \u001b[38;5;241m=\u001b[39m \u001b[43mparseEmail\u001b[49m\u001b[43m(\u001b[49m\u001b[43mfile\u001b[49m\u001b[43m)\u001b[49m\n\u001b[0;32m      7\u001b[0m     \u001b[38;5;28;01mfor\u001b[39;00m token \u001b[38;5;129;01min\u001b[39;00m tokens:\n\u001b[0;32m      8\u001b[0m         \u001b[38;5;28;01mif\u001b[39;00m token \u001b[38;5;129;01mnot\u001b[39;00m \u001b[38;5;129;01min\u001b[39;00m uniqueTokens:\n",
      "Input \u001b[1;32mIn [3]\u001b[0m, in \u001b[0;36mparseEmail\u001b[1;34m(filename)\u001b[0m\n\u001b[0;32m      1\u001b[0m \u001b[38;5;28;01mdef\u001b[39;00m \u001b[38;5;21mparseEmail\u001b[39m(filename):\n\u001b[1;32m----> 2\u001b[0m     content \u001b[38;5;241m=\u001b[39m \u001b[43mprocessEmail\u001b[49m\u001b[43m(\u001b[49m\u001b[43mfilename\u001b[49m\u001b[43m)\u001b[49m\n\u001b[0;32m      3\u001b[0m     data \u001b[38;5;241m=\u001b[39m tokenizeEmail(content)\n\u001b[0;32m      4\u001b[0m     data \u001b[38;5;241m=\u001b[39m casefoldEmail(data)\n",
      "Input \u001b[1;32mIn [3]\u001b[0m, in \u001b[0;36mprocessEmail\u001b[1;34m(filename)\u001b[0m\n\u001b[0;32m     14\u001b[0m subject \u001b[38;5;241m=\u001b[39m \u001b[38;5;124m'\u001b[39m\u001b[38;5;124m'\u001b[39m\n\u001b[0;32m     15\u001b[0m content \u001b[38;5;241m=\u001b[39m \u001b[38;5;124m'\u001b[39m\u001b[38;5;124m'\u001b[39m\n\u001b[1;32m---> 17\u001b[0m \u001b[38;5;28;01mwith\u001b[39;00m \u001b[38;5;28;43mopen\u001b[39;49m\u001b[43m(\u001b[49m\u001b[43mfilename\u001b[49m\u001b[43m,\u001b[49m\u001b[43m \u001b[49m\u001b[38;5;124;43m'\u001b[39;49m\u001b[38;5;124;43mr\u001b[39;49m\u001b[38;5;124;43m'\u001b[39;49m\u001b[43m)\u001b[49m \u001b[38;5;28;01mas\u001b[39;00m f:\n\u001b[0;32m     18\u001b[0m     data \u001b[38;5;241m=\u001b[39m f\u001b[38;5;241m.\u001b[39mread()\n\u001b[0;32m     19\u001b[0m     email \u001b[38;5;241m=\u001b[39m Parser()\u001b[38;5;241m.\u001b[39mparsestr(data)\n",
      "File \u001b[1;32mC:\\Program Files\\WindowsApps\\PythonSoftwareFoundation.Python.3.9_3.9.2800.0_x64__qbz5n2kfra8p0\\lib\\_bootlocale.py:11\u001b[0m, in \u001b[0;36mgetpreferredencoding\u001b[1;34m(do_setlocale)\u001b[0m\n\u001b[0;32m      8\u001b[0m \u001b[38;5;28;01mimport\u001b[39;00m \u001b[38;5;21;01m_locale\u001b[39;00m\n\u001b[0;32m     10\u001b[0m \u001b[38;5;28;01mif\u001b[39;00m sys\u001b[38;5;241m.\u001b[39mplatform\u001b[38;5;241m.\u001b[39mstartswith(\u001b[38;5;124m\"\u001b[39m\u001b[38;5;124mwin\u001b[39m\u001b[38;5;124m\"\u001b[39m):\n\u001b[1;32m---> 11\u001b[0m     \u001b[38;5;28;01mdef\u001b[39;00m \u001b[38;5;21mgetpreferredencoding\u001b[39m(do_setlocale\u001b[38;5;241m=\u001b[39m\u001b[38;5;28;01mTrue\u001b[39;00m):\n\u001b[0;32m     12\u001b[0m         \u001b[38;5;28;01mif\u001b[39;00m sys\u001b[38;5;241m.\u001b[39mflags\u001b[38;5;241m.\u001b[39mutf8_mode:\n\u001b[0;32m     13\u001b[0m             \u001b[38;5;28;01mreturn\u001b[39;00m \u001b[38;5;124m'\u001b[39m\u001b[38;5;124mUTF-8\u001b[39m\u001b[38;5;124m'\u001b[39m\n",
      "\u001b[1;31mKeyboardInterrupt\u001b[0m: "
     ]
    }
   ],
   "source": [
    "if __name__ == \"__main__\":\n",
    "    __main__()"
   ]
  },
  {
   "cell_type": "code",
   "execution_count": null,
   "metadata": {},
   "outputs": [],
   "source": []
  }
 ],
 "metadata": {
  "interpreter": {
   "hash": "469b108ee6088b42383d6649ea000749c485900e46f50462f3ca26dcec417061"
  },
  "kernelspec": {
   "display_name": "Python 3.8.5 64-bit ('base': conda)",
   "language": "python",
   "name": "python3"
  },
  "language_info": {
   "codemirror_mode": {
    "name": "ipython",
    "version": 3
   },
   "file_extension": ".py",
   "mimetype": "text/x-python",
   "name": "python",
   "nbconvert_exporter": "python",
   "pygments_lexer": "ipython3",
   "version": "3.9.10"
  },
  "orig_nbformat": 4
 },
 "nbformat": 4,
 "nbformat_minor": 2
}
