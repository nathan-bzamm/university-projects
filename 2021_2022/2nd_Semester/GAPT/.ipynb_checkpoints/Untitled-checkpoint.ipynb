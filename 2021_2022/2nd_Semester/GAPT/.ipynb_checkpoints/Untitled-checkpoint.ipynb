{
 "cells": [
  {
   "cell_type": "code",
   "execution_count": 2,
   "metadata": {},
   "outputs": [
    {
     "name": "stdout",
     "output_type": "stream",
     "text": [
      "Collecting google_images_downloadNote: you may need to restart the kernel to use updated packages.\n"
     ]
    },
    {
     "name": "stderr",
     "output_type": "stream",
     "text": [
      "ERROR: After October 2020 you may experience errors when installing or updating packages. This is because pip will change the way that it resolves dependency conflicts.\n",
      "\n",
      "We recommend you use --use-feature=2020-resolver to test your packages with the new resolver before it becomes the default.\n",
      "\n",
      "requests 2.24.0 requires urllib3!=1.25.0,!=1.25.1,<1.26,>=1.21.1, but you'll have urllib3 1.26.9 which is incompatible.\n"
     ]
    },
    {
     "name": "stdout",
     "output_type": "stream",
     "text": [
      "\n",
      "  Using cached google_images_download-2.8.0.tar.gz (14 kB)\n",
      "Requirement already satisfied: selenium in c:\\users\\natha\\anaconda3\\lib\\site-packages (from google_images_download) (4.1.3)\n",
      "Requirement already satisfied: trio~=0.17 in c:\\users\\natha\\anaconda3\\lib\\site-packages (from selenium->google_images_download) (0.20.0)\n",
      "Requirement already satisfied: trio-websocket~=0.9 in c:\\users\\natha\\anaconda3\\lib\\site-packages (from selenium->google_images_download) (0.9.2)\n",
      "Collecting urllib3[secure,socks]~=1.26\n",
      "  Using cached urllib3-1.26.9-py2.py3-none-any.whl (138 kB)\n",
      "Requirement already satisfied: async-generator>=1.9 in c:\\users\\natha\\anaconda3\\lib\\site-packages (from trio~=0.17->selenium->google_images_download) (1.10)\n",
      "Requirement already satisfied: idna in c:\\users\\natha\\anaconda3\\lib\\site-packages (from trio~=0.17->selenium->google_images_download) (2.10)\n",
      "Requirement already satisfied: sortedcontainers in c:\\users\\natha\\anaconda3\\lib\\site-packages (from trio~=0.17->selenium->google_images_download) (2.2.2)\n",
      "Requirement already satisfied: cffi>=1.14; os_name == \"nt\" and implementation_name != \"pypy\" in c:\\users\\natha\\anaconda3\\lib\\site-packages (from trio~=0.17->selenium->google_images_download) (1.14.3)\n",
      "Requirement already satisfied: sniffio in c:\\users\\natha\\anaconda3\\lib\\site-packages (from trio~=0.17->selenium->google_images_download) (1.2.0)\n",
      "Requirement already satisfied: attrs>=19.2.0 in c:\\users\\natha\\anaconda3\\lib\\site-packages (from trio~=0.17->selenium->google_images_download) (20.3.0)\n",
      "Requirement already satisfied: outcome in c:\\users\\natha\\anaconda3\\lib\\site-packages (from trio~=0.17->selenium->google_images_download) (1.1.0)\n",
      "Requirement already satisfied: wsproto>=0.14 in c:\\users\\natha\\anaconda3\\lib\\site-packages (from trio-websocket~=0.9->selenium->google_images_download) (1.1.0)\n",
      "Requirement already satisfied: pyOpenSSL>=0.14; extra == \"secure\" in c:\\users\\natha\\anaconda3\\lib\\site-packages (from urllib3[secure,socks]~=1.26->selenium->google_images_download) (19.1.0)\n",
      "Requirement already satisfied: cryptography>=1.3.4; extra == \"secure\" in c:\\users\\natha\\anaconda3\\lib\\site-packages (from urllib3[secure,socks]~=1.26->selenium->google_images_download) (3.1.1)\n",
      "Requirement already satisfied: certifi; extra == \"secure\" in c:\\users\\natha\\anaconda3\\lib\\site-packages (from urllib3[secure,socks]~=1.26->selenium->google_images_download) (2020.6.20)\n",
      "Requirement already satisfied: PySocks!=1.5.7,<2.0,>=1.5.6; extra == \"socks\" in c:\\users\\natha\\anaconda3\\lib\\site-packages (from urllib3[secure,socks]~=1.26->selenium->google_images_download) (1.7.1)\n",
      "Requirement already satisfied: pycparser in c:\\users\\natha\\anaconda3\\lib\\site-packages (from cffi>=1.14; os_name == \"nt\" and implementation_name != \"pypy\"->trio~=0.17->selenium->google_images_download) (2.20)\n",
      "Requirement already satisfied: h11<1,>=0.9.0 in c:\\users\\natha\\anaconda3\\lib\\site-packages (from wsproto>=0.14->trio-websocket~=0.9->selenium->google_images_download) (0.13.0)\n",
      "Requirement already satisfied: six>=1.5.2 in c:\\users\\natha\\anaconda3\\lib\\site-packages (from pyOpenSSL>=0.14; extra == \"secure\"->urllib3[secure,socks]~=1.26->selenium->google_images_download) (1.15.0)\n",
      "Building wheels for collected packages: google-images-download\n",
      "  Building wheel for google-images-download (setup.py): started\n",
      "  Building wheel for google-images-download (setup.py): finished with status 'done'\n",
      "  Created wheel for google-images-download: filename=google_images_download-2.8.0-py2.py3-none-any.whl size=14553 sha256=583cb5dc4c8a9dcc93192e10a83078bc6251b56165ee2146eeb71b432acd353c\n",
      "  Stored in directory: c:\\users\\natha\\appdata\\local\\pip\\cache\\wheels\\09\\09\\00\\7a4b1a816f726438cb51067db23c7f9efedf009b6a1bfa027a\n",
      "Successfully built google-images-download\n",
      "Installing collected packages: google-images-download, urllib3\n",
      "  Attempting uninstall: urllib3\n",
      "    Found existing installation: urllib3 1.25.11\n",
      "    Uninstalling urllib3-1.25.11:\n",
      "      Successfully uninstalled urllib3-1.25.11\n",
      "Successfully installed google-images-download-2.8.0 urllib3-1.26.9\n"
     ]
    }
   ],
   "source": [
    "pip install google_images_download"
   ]
  },
  {
   "cell_type": "code",
   "execution_count": 7,
   "metadata": {},
   "outputs": [
    {
     "name": "stdout",
     "output_type": "stream",
     "text": [
      "\n",
      "Item no.: 1 --> Item name = student crying in classroom\n",
      "Evaluating...\n",
      "Starting Download...\n",
      "\n",
      "\n",
      "Unfortunately all 10 could not be downloaded because some images were not downloadable. 0 is all we got for this search filter!\n",
      "\n",
      "Errors: 0\n",
      "\n",
      "\n"
     ]
    }
   ],
   "source": [
    "# importing google_images_download module\n",
    "from google_images_download import google_images_download\n",
    "\n",
    "# creating object\n",
    "response = google_images_download.googleimagesdownload()\n",
    "\n",
    "search_queries = [\n",
    "\t\n",
    "'studnet crying in classroom'\n",
    "]\n",
    "\n",
    "\n",
    "\n",
    "def downloadimages(query):\n",
    "\t# keywords is the search query\n",
    "\t# format is the image file format\n",
    "\t# limit is the number of images to be downloaded\n",
    "\t# print urs is to print the image file url\n",
    "\t# size is the image size which can\n",
    "\t# be specified manually (\"large, medium, icon\")\n",
    "\t# aspect ratio denotes the height width ratio\n",
    "\t# of images to download. (\"tall, square, wide, panoramic\")\n",
    "\targuments = {\"keywords\": query,\n",
    "\t\t\t\t\"format\": \"jpg\",\n",
    "\t\t\t\t\"limit\":10,\n",
    "\t\t\t\t\"print_urls\":True,\n",
    "\t\t\t\t\"size\": \"medium\",\n",
    "\t\t\t\t\"aspect_ratio\":\"panoramic\"}\n",
    "\ttry:\n",
    "\t\tresponse.download(arguments)\n",
    "\t\n",
    "\t# Handling File NotFound Error\t\n",
    "\texcept FileNotFoundError:\n",
    "\t\targuments = {\"keywords\": query,\n",
    "\t\t\t\t\t\"format\": \"jpg\",\n",
    "\t\t\t\t\t\"limit\":4,\n",
    "\t\t\t\t\t\"print_urls\":True,\n",
    "\t\t\t\t\t\"size\": \"medium\"}\n",
    "\t\t\t\t\t\n",
    "\t\t# Providing arguments for the searched query\n",
    "\t\ttry:\n",
    "\t\t\t# Downloading the photos based\n",
    "\t\t\t# on the given arguments\n",
    "\t\t\tresponse.download(arguments)\n",
    "\t\texcept:\n",
    "\t\t\tpass\n",
    "\n",
    "# Driver Code\n",
    "for query in search_queries:\n",
    "\tdownloadimages(query)\n",
    "\tprint()\n"
   ]
  },
  {
   "cell_type": "code",
   "execution_count": null,
   "metadata": {},
   "outputs": [],
   "source": []
  }
 ],
 "metadata": {
  "kernelspec": {
   "display_name": "Python 3",
   "language": "python",
   "name": "python3"
  },
  "language_info": {
   "codemirror_mode": {
    "name": "ipython",
    "version": 3
   },
   "file_extension": ".py",
   "mimetype": "text/x-python",
   "name": "python",
   "nbconvert_exporter": "python",
   "pygments_lexer": "ipython3",
   "version": "3.8.5"
  }
 },
 "nbformat": 4,
 "nbformat_minor": 4
}
