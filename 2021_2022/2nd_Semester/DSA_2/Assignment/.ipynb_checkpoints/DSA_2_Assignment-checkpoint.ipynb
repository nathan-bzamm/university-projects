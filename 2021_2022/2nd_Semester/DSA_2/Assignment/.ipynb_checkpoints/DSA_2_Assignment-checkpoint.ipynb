{
 "cells": [
  {
   "cell_type": "code",
   "execution_count": 1,
   "metadata": {},
   "outputs": [],
   "source": [
    "import random"
   ]
  },
  {
   "cell_type": "code",
   "execution_count": 2,
   "metadata": {},
   "outputs": [],
   "source": [
    "#Functions to create required DFA\n",
    "\n",
    "#Return set of n states\n",
    "def getStates():\n",
    "    states = list()\n",
    "    n = random.randint(16,64)\n",
    "    \n",
    "    #go through the states \n",
    "    for i in range(0,n):\n",
    "        states.append(i)\n",
    "    return states\n",
    "\n",
    "#Select final sates randomly\n",
    "def getFinalStates(states):\n",
    "    fStates = list()\n",
    "    #50% chance to be a final state\n",
    "    #0 = not a final state, 1 = final state\n",
    "    for i in states:\n",
    "        if random.randint(0,1) == 1 :\n",
    "            fStates.append(i)\n",
    "    return fStates\n",
    "\n",
    "#Creating random Transitions\n",
    "def getTransitions(N):\n",
    "    transitions = list()\n",
    "    for i in range(0,N):\n",
    "        a = random.randint(0,N-1)\n",
    "        b = random.randint(0,N-1)\n",
    "        transitions.append([a,b])\n",
    "    return transitions"
   ]
  },
  {
   "cell_type": "code",
   "execution_count": 3,
   "metadata": {},
   "outputs": [],
   "source": [
    "#implementing a DFA\n",
    "class RandomDFA():\n",
    "    def __init__(self):\n",
    "        self.states = getStates()\n",
    "        self.size = len(self.states)\n",
    "        self.terminals = ['a','b']\n",
    "        self.startState = random.randint(0,self.size)\n",
    "        self.finalStates = getFinalStates(self.states)\n",
    "        self.transitions = getTransitions(self.size)"
   ]
  },
  {
   "cell_type": "code",
   "execution_count": 7,
   "metadata": {},
   "outputs": [
    {
     "name": "stdout",
     "output_type": "stream",
     "text": [
      "A's Transitions: [[16, 15], [5, 14], [14, 4], [17, 6], [17, 0], [7, 17], [12, 7], [5, 15], [1, 1], [9, 9], [2, 13], [13, 4], [9, 7], [6, 15], [0, 7], [4, 4], [7, 14], [4, 1]]\n",
      "A's start state: 11\n",
      "A's final states: [1, 2, 4, 5, 6, 8, 9, 11, 12, 17]\n"
     ]
    }
   ],
   "source": [
    "#Creating the Automata A\n",
    "A = RandomDFA()\n",
    "print(\"A's Transitions:\", A.transitions)\n",
    "print(\"A's start state:\", A.startState)\n",
    "print(\"A's final states:\", A.finalStates)"
   ]
  },
  {
   "cell_type": "code",
   "execution_count": 9,
   "metadata": {},
   "outputs": [
    {
     "data": {
      "text/plain": [
       "5"
      ]
     },
     "execution_count": 9,
     "metadata": {},
     "output_type": "execute_result"
    }
   ],
   "source": [
    "#function to get depth \n",
    "def depth(DFA):\n",
    "    visited = list()\n",
    "    toVisit = [(DFA.startState,0)]\n",
    "    current = DFA.startState\n",
    "    ans = 0\n",
    "    while len(toVisit) > 0:\n",
    "        current = toVisit[0][0]\n",
    "        ans = toVisit[0][1]\n",
    "        toVisit.pop(0)\n",
    "        if current not in visited:\n",
    "            visited.append(current)\n",
    "            \n",
    "        temp = []\n",
    "        for el in DFA.transitions[current]:\n",
    "            if el != None:\n",
    "                temp.append(el)\n",
    "        for el in temp:\n",
    "            if el not in visited:\n",
    "                toVisit.append((el,ans+1))\n",
    "    return ans\n",
    "    \n",
    "depth(A)"
   ]
  },
  {
   "cell_type": "code",
   "execution_count": null,
   "metadata": {},
   "outputs": [],
   "source": []
  },
  {
   "cell_type": "code",
   "execution_count": null,
   "metadata": {},
   "outputs": [],
   "source": []
  }
 ],
 "metadata": {
  "kernelspec": {
   "display_name": "Python 3",
   "language": "python",
   "name": "python3"
  },
  "language_info": {
   "codemirror_mode": {
    "name": "ipython",
    "version": 3
   },
   "file_extension": ".py",
   "mimetype": "text/x-python",
   "name": "python",
   "nbconvert_exporter": "python",
   "pygments_lexer": "ipython3",
   "version": "3.8.5"
  }
 },
 "nbformat": 4,
 "nbformat_minor": 4
}
