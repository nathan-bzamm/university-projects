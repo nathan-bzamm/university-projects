{
 "cells": [
  {
   "cell_type": "code",
   "execution_count": null,
   "metadata": {},
   "outputs": [],
   "source": [
    "import numpy as np\n",
    "from network import QTable\n",
    "\n",
    "\n",
    "class Agent:\n",
    "    def __init__(self, state_space, action_space, discount_rate, learning_rate, exploration_rate):\n",
    "        self.state_space = state_space\n",
    "        self.action_space = action_space\n",
    "        self.discount_rate = discount_rate\n",
    "        self.learning_rate = learning_rate\n",
    "        self.exploration_rate = exploration_rate\n",
    "\n",
    "        # Multiply by 2 to account for the opponent's state\n",
    "        num_states = self.state_space * 2\n",
    "        num_actions = self.action_space\n",
    "        self.q_table = QTable(num_states, num_actions, self.learning_rate,\n",
    "                              self.discount_rate, self.exploration_rate)\n",
    "\n",
    "    def get_state_index(self, state):\n",
    "        state_index = 0\n",
    "        for i in range(len(state)):\n",
    "            state_index += state[i] * (self.state_space ** i)\n",
    "        return state_index\n",
    "\n",
    "    def train_network(self, state, action, reward, next_state, done):\n",
    "        state = self.get_state_index(state)\n",
    "        next_state = self.get_state_index(next_state)\n",
    "        self.q_table.update(state, action, reward, next_state)\n",
    "\n",
    "    def get_best_action(self, state):\n",
    "        state = self.get_state_index(state)\n",
    "        return self.q_table.get_best_action(state)\n",
    "\n",
    "    def get_action(self, state):\n",
    "        state = self.get_state_index(state)\n",
    "        return self.q_table.get_action(state)\n"
   ]
  }
 ],
 "metadata": {
  "kernelspec": {
   "display_name": "Python 3",
   "language": "python",
   "name": "python3"
  },
  "language_info": {
   "codemirror_mode": {
    "name": "ipython",
    "version": 3
   },
   "file_extension": ".py",
   "mimetype": "text/x-python",
   "name": "python",
   "nbconvert_exporter": "python",
   "pygments_lexer": "ipython3",
   "version": "3.8.5"
  }
 },
 "nbformat": 4,
 "nbformat_minor": 4
}
