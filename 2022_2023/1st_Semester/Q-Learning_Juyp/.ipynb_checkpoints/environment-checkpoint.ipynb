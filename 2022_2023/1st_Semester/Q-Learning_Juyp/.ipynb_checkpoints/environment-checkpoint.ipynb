{
 "cells": [
  {
   "cell_type": "code",
   "execution_count": null,
   "metadata": {},
   "outputs": [],
   "source": [
    "import poke_env\n",
    "from poke_env.environment.battle import Battle\n",
    "from poke_env.player.random_player import RandomPlayer\n",
    "from poke_env.player_configuration import PlayerConfiguration\n",
    "from poke_env.server_configuration import ShowdownServerConfiguration\n",
    "\n",
    "\n",
    "class Environment(RandomPlayer):\n",
    "    def __init__(self, username, password, battle_format=\"gen8randombattle\"):\n",
    "        self.battle_format = battle_format\n",
    "\n",
    "        player_configuration = PlayerConfiguration(username, password)\n",
    "        server_configuration = ShowdownServerConfiguration\n",
    "\n",
    "        super().__init__(player_configuration)\n",
    "\n",
    "    def reset(self):\n",
    "        # Start a new battle and return the initial state\n",
    "        self.start_random_battle(self.battle_format)\n",
    "        return self.get_state()\n",
    "\n",
    "    def step(self, action):\n",
    "        # Perform the action chosen by the agent and observe the outcome\n",
    "        self.choose_random_move(self.battle)\n",
    "        next_state = self.get_state()\n",
    "        reward = self.get_reward()\n",
    "        done = self.battle.finished\n",
    "        return next_state, reward, done\n",
    "\n",
    "    def get_state(self):\n",
    "        # Extract relevant state information from the battle object\n",
    "        # This is just an example; you can customize the state representation as needed\n",
    "        state = [\n",
    "            self.battle.user.active_pokemon.hp,\n",
    "            self.battle.opponent.active_pokemon.hp,\n",
    "        ]\n",
    "        return state\n",
    "\n",
    "    def get_reward(self):\n",
    "        # Compute the reward based on the battle outcome\n",
    "        # This is just an example; you can customize the reward function as needed\n",
    "        if self.battle.won:\n",
    "            reward = 1\n",
    "        elif self.battle.lost:\n",
    "            reward = -1\n",
    "        else:\n",
    "            reward = 0\n",
    "        return reward\n"
   ]
  }
 ],
 "metadata": {
  "kernelspec": {
   "display_name": "Python 3",
   "language": "python",
   "name": "python3"
  },
  "language_info": {
   "codemirror_mode": {
    "name": "ipython",
    "version": 3
   },
   "file_extension": ".py",
   "mimetype": "text/x-python",
   "name": "python",
   "nbconvert_exporter": "python",
   "pygments_lexer": "ipython3",
   "version": "3.8.5"
  }
 },
 "nbformat": 4,
 "nbformat_minor": 4
}
