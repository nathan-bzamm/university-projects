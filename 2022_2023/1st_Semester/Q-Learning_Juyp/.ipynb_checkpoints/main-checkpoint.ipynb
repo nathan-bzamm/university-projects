{
 "cells": [
  {
   "cell_type": "code",
   "execution_count": 2,
   "metadata": {},
   "outputs": [],
   "source": [
    "import numpy as np\n",
    "\n",
    "\n",
    "class QTable:\n",
    "    def __init__(self, num_states, num_actions, learning_rate, discount_factor, exploration_rate):\n",
    "        self.q_table = np.zeros((num_states, num_actions))\n",
    "        self.learning_rate = learning_rate\n",
    "        self.discount_factor = discount_factor\n",
    "        self.exploration_rate = exploration_rate\n",
    "\n",
    "    def update(self, state, action, reward, next_state):\n",
    "        q_old = self.q_table[state, action]\n",
    "        q_target = reward + self.discount_factor * \\\n",
    "            np.max(self.q_table[next_state])\n",
    "        self.q_table[state, action] += self.learning_rate * (q_target - q_old)\n",
    "\n",
    "    def get_best_action(self, state):\n",
    "        return np.argmax(self.q_table[state])\n",
    "\n",
    "    def get_action(self, state):\n",
    "        if np.random.rand() < self.exploration_rate:\n",
    "            return np.random.randint(0, self.q_table.shape[1])\n",
    "        else:\n",
    "            return self.get_best_action(state)"
   ]
  },
  {
   "cell_type": "code",
   "execution_count": 3,
   "metadata": {},
   "outputs": [
    {
     "ename": "ModuleNotFoundError",
     "evalue": "No module named 'network'",
     "output_type": "error",
     "traceback": [
      "\u001b[1;31m---------------------------------------------------------------------------\u001b[0m",
      "\u001b[1;31mModuleNotFoundError\u001b[0m                       Traceback (most recent call last)",
      "\u001b[1;32m<ipython-input-3-2c6f3e089a79>\u001b[0m in \u001b[0;36m<module>\u001b[1;34m\u001b[0m\n\u001b[0;32m      1\u001b[0m \u001b[1;32mimport\u001b[0m \u001b[0mnumpy\u001b[0m \u001b[1;32mas\u001b[0m \u001b[0mnp\u001b[0m\u001b[1;33m\u001b[0m\u001b[1;33m\u001b[0m\u001b[0m\n\u001b[1;32m----> 2\u001b[1;33m \u001b[1;32mfrom\u001b[0m \u001b[0mnetwork\u001b[0m \u001b[1;32mimport\u001b[0m \u001b[0mQTable\u001b[0m\u001b[1;33m\u001b[0m\u001b[1;33m\u001b[0m\u001b[0m\n\u001b[0m\u001b[0;32m      3\u001b[0m \u001b[1;33m\u001b[0m\u001b[0m\n\u001b[0;32m      4\u001b[0m \u001b[1;33m\u001b[0m\u001b[0m\n\u001b[0;32m      5\u001b[0m \u001b[1;32mclass\u001b[0m \u001b[0mAgent\u001b[0m\u001b[1;33m:\u001b[0m\u001b[1;33m\u001b[0m\u001b[1;33m\u001b[0m\u001b[0m\n",
      "\u001b[1;31mModuleNotFoundError\u001b[0m: No module named 'network'"
     ]
    }
   ],
   "source": [
    "class Agent:\n",
    "    def __init__(self, state_space, action_space, discount_rate, learning_rate, exploration_rate):\n",
    "        self.state_space = state_space\n",
    "        self.action_space = action_space\n",
    "        self.discount_rate = discount_rate\n",
    "        self.learning_rate = learning_rate\n",
    "        self.exploration_rate = exploration_rate\n",
    "\n",
    "        # Multiply by 2 to account for the opponent's state\n",
    "        num_states = self.state_space * 2\n",
    "        num_actions = self.action_space\n",
    "        self.q_table = QTable(num_states, num_actions, self.learning_rate,\n",
    "                              self.discount_rate, self.exploration_rate)\n",
    "\n",
    "    def get_state_index(self, state):\n",
    "        state_index = 0\n",
    "        for i in range(len(state)):\n",
    "            state_index += state[i] * (self.state_space ** i)\n",
    "        return state_index\n",
    "\n",
    "    def train_network(self, state, action, reward, next_state, done):\n",
    "        state = self.get_state_index(state)\n",
    "        next_state = self.get_state_index(next_state)\n",
    "        self.q_table.update(state, action, reward, next_state)\n",
    "\n",
    "    def get_best_action(self, state):\n",
    "        state = self.get_state_index(state)\n",
    "        return self.q_table.get_best_action(state)\n",
    "\n",
    "    def get_action(self, state):\n",
    "        state = self.get_state_index(state)\n",
    "        return self.q_table.get_action(state)"
   ]
  },
  {
   "cell_type": "code",
   "execution_count": 1,
   "metadata": {},
   "outputs": [
    {
     "ename": "ModuleNotFoundError",
     "evalue": "No module named 'agent'",
     "output_type": "error",
     "traceback": [
      "\u001b[1;31m---------------------------------------------------------------------------\u001b[0m",
      "\u001b[1;31mModuleNotFoundError\u001b[0m                       Traceback (most recent call last)",
      "\u001b[1;32m<ipython-input-1-8e36ac4a0f5a>\u001b[0m in \u001b[0;36m<module>\u001b[1;34m\u001b[0m\n\u001b[1;32m----> 1\u001b[1;33m \u001b[1;32mfrom\u001b[0m \u001b[0magent\u001b[0m \u001b[1;32mimport\u001b[0m \u001b[0mAgent\u001b[0m\u001b[1;33m\u001b[0m\u001b[1;33m\u001b[0m\u001b[0m\n\u001b[0m\u001b[0;32m      2\u001b[0m \u001b[1;32mfrom\u001b[0m \u001b[0menvironment\u001b[0m \u001b[1;32mimport\u001b[0m \u001b[0mEnvironment\u001b[0m\u001b[1;33m\u001b[0m\u001b[1;33m\u001b[0m\u001b[0m\n\u001b[0;32m      3\u001b[0m \u001b[1;32mimport\u001b[0m \u001b[0mnumpy\u001b[0m \u001b[1;32mas\u001b[0m \u001b[0mnp\u001b[0m\u001b[1;33m\u001b[0m\u001b[1;33m\u001b[0m\u001b[0m\n\u001b[0;32m      4\u001b[0m \u001b[1;33m\u001b[0m\u001b[0m\n\u001b[0;32m      5\u001b[0m \u001b[1;33m\u001b[0m\u001b[0m\n",
      "\u001b[1;31mModuleNotFoundError\u001b[0m: No module named 'agent'"
     ]
    }
   ],
   "source": [
    "from agent import Agent\n",
    "from environment import Environment\n",
    "import numpy as np\n",
    "\n",
    "\n",
    "def main():\n",
    "    username = \"Q-learner2023\"\n",
    "    password = \"AIisPlaying2023\"\n",
    "\n",
    "    state_space = 10\n",
    "    action_space = 18\n",
    "    discount_rate = 0.99\n",
    "    learning_rate = 0.001\n",
    "    exploration_rate = 0.1\n",
    "    agent = Agent(state_space, action_space, discount_rate,\n",
    "                  learning_rate, exploration_rate)\n",
    "    env = Environment(username, password)\n",
    "\n",
    "    num_episodes = 1000\n",
    "    for episode in range(num_episodes):\n",
    "        state = env.reset()\n",
    "        done = False\n",
    "\n",
    "        while not done:\n",
    "            action = agent.get_action(state)\n",
    "            next_state, reward, done = env.step(action)\n",
    "            agent.train_network(state, action, reward, next_state, done)\n",
    "            state = next_state\n",
    "\n",
    "\n",
    "if __name__ == \"__main__\":\n",
    "    main()\n"
   ]
  },
  {
   "cell_type": "code",
   "execution_count": null,
   "metadata": {},
   "outputs": [],
   "source": []
  }
 ],
 "metadata": {
  "kernelspec": {
   "display_name": "Python 3",
   "language": "python",
   "name": "python3"
  },
  "language_info": {
   "codemirror_mode": {
    "name": "ipython",
    "version": 3
   },
   "file_extension": ".py",
   "mimetype": "text/x-python",
   "name": "python",
   "nbconvert_exporter": "python",
   "pygments_lexer": "ipython3",
   "version": "3.8.5"
  }
 },
 "nbformat": 4,
 "nbformat_minor": 4
}
