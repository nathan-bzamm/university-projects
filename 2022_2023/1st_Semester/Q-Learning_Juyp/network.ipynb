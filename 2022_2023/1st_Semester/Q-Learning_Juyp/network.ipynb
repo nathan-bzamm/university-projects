{
 "cells": [
  {
   "cell_type": "code",
   "execution_count": null,
   "metadata": {},
   "outputs": [],
   "source": [
    "import numpy as np\n",
    "\n",
    "\n",
    "class QTable:\n",
    "    def __init__(self, num_states, num_actions, learning_rate, discount_factor, exploration_rate):\n",
    "        self.q_table = np.zeros((num_states, num_actions))\n",
    "        self.learning_rate = learning_rate\n",
    "        self.discount_factor = discount_factor\n",
    "        self.exploration_rate = exploration_rate\n",
    "\n",
    "    def update(self, state, action, reward, next_state):\n",
    "        q_old = self.q_table[state, action]\n",
    "        q_target = reward + self.discount_factor * \\\n",
    "            np.max(self.q_table[next_state])\n",
    "        self.q_table[state, action] += self.learning_rate * (q_target - q_old)\n",
    "\n",
    "    def get_best_action(self, state):\n",
    "        return np.argmax(self.q_table[state])\n",
    "\n",
    "    def get_action(self, state):\n",
    "        if np.random.rand() < self.exploration_rate:\n",
    "            return np.random.randint(0, self.q_table.shape[1])\n",
    "        else:\n",
    "            return self.get_best_action(state)"
   ]
  }
 ],
 "metadata": {
  "kernelspec": {
   "display_name": "Python 3",
   "language": "python",
   "name": "python3"
  },
  "language_info": {
   "codemirror_mode": {
    "name": "ipython",
    "version": 3
   },
   "file_extension": ".py",
   "mimetype": "text/x-python",
   "name": "python",
   "nbconvert_exporter": "python",
   "pygments_lexer": "ipython3",
   "version": "3.8.5"
  }
 },
 "nbformat": 4,
 "nbformat_minor": 4
}
